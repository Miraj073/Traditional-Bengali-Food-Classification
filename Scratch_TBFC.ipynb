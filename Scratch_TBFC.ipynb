{
  "nbformat": 4,
  "nbformat_minor": 0,
  "metadata": {
    "colab": {
      "name": "Scratch TBFC",
      "provenance": [],
      "collapsed_sections": [],
      "machine_shape": "hm",
      "include_colab_link": true
    },
    "kernelspec": {
      "name": "python3",
      "display_name": "Python 3"
    },
    "accelerator": "GPU"
  },
  "cells": [
    {
      "cell_type": "markdown",
      "metadata": {
        "id": "view-in-github",
        "colab_type": "text"
      },
      "source": [
        "<a href=\"https://colab.research.google.com/github/mirazAL/TBFC_2021/blob/main/Scratch_TBFC.ipynb\" target=\"_parent\"><img src=\"https://colab.research.google.com/assets/colab-badge.svg\" alt=\"Open In Colab\"/></a>"
      ]
    },
    {
      "cell_type": "code",
      "metadata": {
        "id": "6Cd61KmUlUjA",
        "colab": {
          "base_uri": "https://localhost:8080/"
        },
        "outputId": "e881e4e3-d199-41da-8bc6-78327ed42fe6"
      },
      "source": [
        "from google.colab import drive\n",
        "drive.mount('/content/drive')"
      ],
      "execution_count": null,
      "outputs": [
        {
          "output_type": "stream",
          "text": [
            "Mounted at /content/drive\n"
          ],
          "name": "stdout"
        }
      ]
    },
    {
      "cell_type": "code",
      "metadata": {
        "id": "lZI-Rm9VF9h4",
        "outputId": "05084102-c9f6-4bf5-c72d-b891f4bf1ae3",
        "colab": {
          "base_uri": "https://localhost:8080/"
        }
      },
      "source": [
        "!nvidia-smi"
      ],
      "execution_count": null,
      "outputs": [
        {
          "output_type": "stream",
          "text": [
            "Tue Aug 10 17:25:02 2021       \n",
            "+-----------------------------------------------------------------------------+\n",
            "| NVIDIA-SMI 470.42.01    Driver Version: 460.32.03    CUDA Version: 11.2     |\n",
            "|-------------------------------+----------------------+----------------------+\n",
            "| GPU  Name        Persistence-M| Bus-Id        Disp.A | Volatile Uncorr. ECC |\n",
            "| Fan  Temp  Perf  Pwr:Usage/Cap|         Memory-Usage | GPU-Util  Compute M. |\n",
            "|                               |                      |               MIG M. |\n",
            "|===============================+======================+======================|\n",
            "|   0  Tesla T4            Off  | 00000000:00:04.0 Off |                    0 |\n",
            "| N/A   47C    P8    10W /  70W |      0MiB / 15109MiB |      0%      Default |\n",
            "|                               |                      |                  N/A |\n",
            "+-------------------------------+----------------------+----------------------+\n",
            "                                                                               \n",
            "+-----------------------------------------------------------------------------+\n",
            "| Processes:                                                                  |\n",
            "|  GPU   GI   CI        PID   Type   Process name                  GPU Memory |\n",
            "|        ID   ID                                                   Usage      |\n",
            "|=============================================================================|\n",
            "|  No running processes found                                                 |\n",
            "+-----------------------------------------------------------------------------+\n"
          ],
          "name": "stdout"
        }
      ]
    },
    {
      "cell_type": "code",
      "metadata": {
        "colab": {
          "base_uri": "https://localhost:8080/"
        },
        "id": "vhwABvJJisoJ",
        "outputId": "5b563bfb-e105-46ef-84c8-8f293b9ab0d2"
      },
      "source": [
        "import os\n",
        "\n",
        "s='/content/drive/MyDrive/Traditional Food Classification/set 1/train_noise_and_noise_rot15_flipv/'\n",
        "c=0\n",
        "\n",
        "for f in os.listdir(s):\n",
        "  c+=len(os.listdir(s+f))\n",
        "  print(f,len(os.listdir(s+f)))\n",
        "\n",
        "print(c)"
      ],
      "execution_count": null,
      "outputs": [
        {
          "output_type": "stream",
          "text": [
            "কালা ভুনা 258\n",
            "পান্তা ইলিশ 219\n",
            "বিরিয়ানি 423\n",
            "খিচুড়ি 516\n",
            "ডিম ভুনা 303\n",
            "ফুচকা 468\n",
            "মিষ্টি,রসগোল্লা 432\n",
            "2619\n"
          ],
          "name": "stdout"
        }
      ]
    },
    {
      "cell_type": "code",
      "metadata": {
        "id": "Bm66Ww9aoH-o"
      },
      "source": [
        "import tensorflow as tf\n",
        "import numpy as np\n",
        "import glob,os\n",
        "\n",
        "from tensorflow.keras.models import Sequential\n",
        "from tensorflow.keras.layers import Conv2D, MaxPooling2D\n",
        "from tensorflow.keras.layers import Dense, Flatten, Dropout,BatchNormalization,Activation\n",
        "from tensorflow.keras.regularizers import l2"
      ],
      "execution_count": null,
      "outputs": []
    },
    {
      "cell_type": "code",
      "metadata": {
        "colab": {
          "base_uri": "https://localhost:8080/"
        },
        "id": "PNeWTt8TY8iU",
        "outputId": "8933e780-a6e7-447a-92e6-a0681bc8cfc4"
      },
      "source": [
        "classes=os.listdir('/content/drive/MyDrive/Traditional Food Classification/set 1/train_noise_and_noise_rot15_flipv/')\n",
        "classes"
      ],
      "execution_count": null,
      "outputs": [
        {
          "output_type": "execute_result",
          "data": {
            "text/plain": [
              "['কালা ভুনা',\n",
              " 'পান্তা ইলিশ',\n",
              " 'বিরিয়ানি',\n",
              " 'খিচুড়ি',\n",
              " 'ডিম ভুনা',\n",
              " 'ফুচকা',\n",
              " 'মিষ্টি,রসগোল্লা']"
            ]
          },
          "metadata": {
            "tags": []
          },
          "execution_count": 3
        }
      ]
    },
    {
      "cell_type": "code",
      "metadata": {
        "id": "VdegmfDMxTFc"
      },
      "source": [
        "train_data_aug = tf.keras.preprocessing.image.ImageDataGenerator(\n",
        "    rescale=1./255,\n",
        "    zoom_range=0.25,\n",
        "    horizontal_flip=True,\n",
        "    rotation_range=8,\n",
        "    width_shift_range=0.2,\n",
        "    height_shift_range=0.2,\n",
        "    shear_range=0.2,\n",
        "    )\n",
        "\n",
        "val_data_aug = tf.keras.preprocessing.image.ImageDataGenerator(\n",
        "    rescale=1./255,\n",
        "    )"
      ],
      "execution_count": null,
      "outputs": []
    },
    {
      "cell_type": "code",
      "metadata": {
        "colab": {
          "base_uri": "https://localhost:8080/"
        },
        "id": "L6twHEjAciLE",
        "outputId": "f1dcba3c-6907-403e-b21a-d2d1b035fc41"
      },
      "source": [
        "train_dir='/content/drive/MyDrive/Traditional Food Classification/set 1/train_noise_and_noise_rot15_flipv/'\n",
        "train=train_data_aug.flow_from_directory(directory=train_dir,\n",
        "        target_size=(224, 224),\n",
        "        batch_size=32,\n",
        "        color_mode=\"rgb\",\n",
        "        shuffle=True,\n",
        "        classes=classes,\n",
        "        class_mode='categorical')"
      ],
      "execution_count": null,
      "outputs": [
        {
          "output_type": "stream",
          "text": [
            "Found 2619 images belonging to 7 classes.\n"
          ],
          "name": "stdout"
        }
      ]
    },
    {
      "cell_type": "code",
      "metadata": {
        "colab": {
          "base_uri": "https://localhost:8080/"
        },
        "id": "K5h_xVYXx6Pq",
        "outputId": "4dd90fce-b79d-414f-ae88-38eb3ba2607f"
      },
      "source": [
        "valid_dir='/content/drive/MyDrive/Traditional Food Classification/set 1/validation'\n",
        "valid=val_data_aug.flow_from_directory(directory=valid_dir,\n",
        "        target_size=(224, 224),\n",
        "        batch_size=36,\n",
        "        color_mode=\"rgb\",\n",
        "        shuffle=False,\n",
        "        classes=classes,\n",
        "        class_mode='categorical')"
      ],
      "execution_count": null,
      "outputs": [
        {
          "output_type": "stream",
          "text": [
            "Found 216 images belonging to 7 classes.\n"
          ],
          "name": "stdout"
        }
      ]
    },
    {
      "cell_type": "code",
      "metadata": {
        "colab": {
          "base_uri": "https://localhost:8080/"
        },
        "id": "SjtUPhRGi4Du",
        "outputId": "1477baba-6138-4051-c780-d42c44893a23"
      },
      "source": [
        "import os\n",
        "\n",
        "s='/content/drive/MyDrive/Traditional Food Classification/set 1/validation/'\n",
        "c=0\n",
        "\n",
        "for f in os.listdir(s):\n",
        "  c+=len(os.listdir(s+f))\n",
        "  print(f,len(os.listdir(s+f)))\n",
        "\n",
        "print(c)"
      ],
      "execution_count": null,
      "outputs": [
        {
          "output_type": "stream",
          "text": [
            "খিচুড়ি 43\n",
            "কালা ভুনা 21\n",
            "ডিম ভুনা 25\n",
            "মিষ্টি,রসগোল্লা 36\n",
            "পান্তা ইলিশ 18\n",
            "বিরিয়ানি 35\n",
            "ফুচকা 39\n",
            "217\n"
          ],
          "name": "stdout"
        }
      ]
    },
    {
      "cell_type": "code",
      "metadata": {
        "colab": {
          "base_uri": "https://localhost:8080/"
        },
        "id": "YhreDK1ogTpF",
        "outputId": "6742ace0-f114-4ffa-ce2b-56c40c2318ec"
      },
      "source": [
        "# type(valid.labels)\n",
        "import collections, numpy\n",
        "collections.Counter(valid.labels)"
      ],
      "execution_count": null,
      "outputs": [
        {
          "output_type": "execute_result",
          "data": {
            "text/plain": [
              "Counter({0: 21, 1: 18, 2: 35, 3: 43, 4: 25, 5: 38, 6: 36})"
            ]
          },
          "metadata": {
            "tags": []
          },
          "execution_count": 7
        }
      ]
    },
    {
      "cell_type": "code",
      "metadata": {
        "id": "h-tOg4DQgTpL"
      },
      "source": [
        "labels=['Kala_Vuna','Panta Ilish','Biriyani','Khichuri','Dim_Vuna','Fuchka','Rosogolla']"
      ],
      "execution_count": null,
      "outputs": []
    },
    {
      "cell_type": "code",
      "metadata": {
        "id": "nh-xjw_3NLs4"
      },
      "source": [
        "model = Sequential()\n",
        "\n",
        "input_shape=(224, 224, 3)\n",
        "\n",
        "model.add(Conv2D(32, (3, 3), strides=(1, 1),activation='relu', padding='same',input_shape=input_shape))\n",
        "model.add(MaxPooling2D((2, 2)))\n",
        "model.add(Conv2D(64, (3, 3), strides=(1, 1),activation='relu',padding='same'))\n",
        "model.add(MaxPooling2D((2, 2)))\n",
        "model.add(Conv2D(64, (3, 3), strides=(1, 1),activation='relu', padding='same'))\n",
        "model.add(MaxPooling2D((2, 2)))\n",
        "model.add(Conv2D(128, (5, 5), strides=(1, 1),activation='relu', padding='same'))\n",
        "model.add(MaxPooling2D((2, 2)))\n",
        "model.add(Conv2D(128, (5, 5), strides=(1, 1),activation='relu', padding='same'))\n",
        "\n",
        "model.add(MaxPooling2D((2, 2)))\n",
        "model.add(Conv2D(256, (5, 5), strides=(1, 1),activation='relu', padding='same'))\n",
        "model.add(MaxPooling2D((2, 2)))\n",
        "\n",
        "model.add(Flatten())\n",
        "\n",
        "model.add((Dense(128,activation='relu')))\n",
        "model.add(Dropout(0.4))\n",
        "# model.add((Dense(256,activation='relu')))\n",
        "\n",
        "model.add(Dense(7, activation='softmax'))"
      ],
      "execution_count": null,
      "outputs": []
    },
    {
      "cell_type": "code",
      "metadata": {
        "colab": {
          "base_uri": "https://localhost:8080/"
        },
        "id": "Or4t-10Qhfb2",
        "outputId": "bba57e57-e3e5-4b9b-d300-060894cca26e"
      },
      "source": [
        "model.summary()"
      ],
      "execution_count": null,
      "outputs": [
        {
          "output_type": "stream",
          "text": [
            "Model: \"sequential\"\n",
            "_________________________________________________________________\n",
            "Layer (type)                 Output Shape              Param #   \n",
            "=================================================================\n",
            "conv2d (Conv2D)              (None, 224, 224, 32)      896       \n",
            "_________________________________________________________________\n",
            "max_pooling2d (MaxPooling2D) (None, 112, 112, 32)      0         \n",
            "_________________________________________________________________\n",
            "conv2d_1 (Conv2D)            (None, 112, 112, 64)      18496     \n",
            "_________________________________________________________________\n",
            "max_pooling2d_1 (MaxPooling2 (None, 56, 56, 64)        0         \n",
            "_________________________________________________________________\n",
            "conv2d_2 (Conv2D)            (None, 56, 56, 64)        36928     \n",
            "_________________________________________________________________\n",
            "max_pooling2d_2 (MaxPooling2 (None, 28, 28, 64)        0         \n",
            "_________________________________________________________________\n",
            "conv2d_3 (Conv2D)            (None, 28, 28, 128)       204928    \n",
            "_________________________________________________________________\n",
            "max_pooling2d_3 (MaxPooling2 (None, 14, 14, 128)       0         \n",
            "_________________________________________________________________\n",
            "conv2d_4 (Conv2D)            (None, 14, 14, 128)       409728    \n",
            "_________________________________________________________________\n",
            "max_pooling2d_4 (MaxPooling2 (None, 7, 7, 128)         0         \n",
            "_________________________________________________________________\n",
            "conv2d_5 (Conv2D)            (None, 7, 7, 256)         819456    \n",
            "_________________________________________________________________\n",
            "max_pooling2d_5 (MaxPooling2 (None, 3, 3, 256)         0         \n",
            "_________________________________________________________________\n",
            "flatten (Flatten)            (None, 2304)              0         \n",
            "_________________________________________________________________\n",
            "dense (Dense)                (None, 128)               295040    \n",
            "_________________________________________________________________\n",
            "dropout (Dropout)            (None, 128)               0         \n",
            "_________________________________________________________________\n",
            "dense_1 (Dense)              (None, 7)                 903       \n",
            "=================================================================\n",
            "Total params: 1,786,375\n",
            "Trainable params: 1,786,375\n",
            "Non-trainable params: 0\n",
            "_________________________________________________________________\n"
          ],
          "name": "stdout"
        }
      ]
    },
    {
      "cell_type": "code",
      "metadata": {
        "id": "nUwPat6Ohfb5"
      },
      "source": [
        "from tensorflow.keras.optimizers import Adam,RMSprop\n",
        "\n",
        "model.compile(loss='logcosh',\n",
        "              optimizer=Adam(lr=0.0001),\n",
        "              metrics=['accuracy'])"
      ],
      "execution_count": null,
      "outputs": []
    },
    {
      "cell_type": "code",
      "metadata": {
        "id": "NOLTqtwTPPJQ"
      },
      "source": [
        "from keras.callbacks import ModelCheckpoint\n",
        "\n",
        "filepath = '/content/drive/MyDrive/Traditional Food Classification/set 1/scratch_val_acc{val_accuracy:.3f}.h5'\n",
        "checkpoint = ModelCheckpoint(filepath, monitor='val_accuracy', verbose=1, save_best_only=True)"
      ],
      "execution_count": null,
      "outputs": []
    },
    {
      "cell_type": "code",
      "metadata": {
        "colab": {
          "base_uri": "https://localhost:8080/"
        },
        "id": "EwwHjKIFSrLg",
        "outputId": "b50504bd-d7b6-4045-aee0-b65f6adf54c4"
      },
      "source": [
        "history = model.fit(train,validation_data=valid,shuffle=True,epochs=100,verbose=1,callbacks=[checkpoint])"
      ],
      "execution_count": null,
      "outputs": [
        {
          "output_type": "stream",
          "text": [
            "Epoch 1/100\n",
            "82/82 [==============================] - 706s 9s/step - loss: 0.0548 - accuracy: 0.2124 - val_loss: 0.0488 - val_accuracy: 0.3194\n",
            "\n",
            "Epoch 00001: val_accuracy improved from -inf to 0.31944, saving model to /content/drive/MyDrive/Traditional Food Classification/set 1/scratch_val_acc0.319.h5\n",
            "Epoch 2/100\n",
            "82/82 [==============================] - 58s 712ms/step - loss: 0.0499 - accuracy: 0.3317 - val_loss: 0.0443 - val_accuracy: 0.3889\n",
            "\n",
            "Epoch 00002: val_accuracy improved from 0.31944 to 0.38889, saving model to /content/drive/MyDrive/Traditional Food Classification/set 1/scratch_val_acc0.389.h5\n",
            "Epoch 3/100\n",
            "82/82 [==============================] - 58s 711ms/step - loss: 0.0464 - accuracy: 0.4085 - val_loss: 0.0392 - val_accuracy: 0.5278\n",
            "\n",
            "Epoch 00003: val_accuracy improved from 0.38889 to 0.52778, saving model to /content/drive/MyDrive/Traditional Food Classification/set 1/scratch_val_acc0.528.h5\n",
            "Epoch 4/100\n",
            "82/82 [==============================] - 58s 707ms/step - loss: 0.0432 - accuracy: 0.4683 - val_loss: 0.0379 - val_accuracy: 0.5556\n",
            "\n",
            "Epoch 00004: val_accuracy improved from 0.52778 to 0.55556, saving model to /content/drive/MyDrive/Traditional Food Classification/set 1/scratch_val_acc0.556.h5\n",
            "Epoch 5/100\n",
            "82/82 [==============================] - 58s 706ms/step - loss: 0.0420 - accuracy: 0.4807 - val_loss: 0.0428 - val_accuracy: 0.4630\n",
            "\n",
            "Epoch 00005: val_accuracy did not improve from 0.55556\n",
            "Epoch 6/100\n",
            "82/82 [==============================] - 58s 706ms/step - loss: 0.0396 - accuracy: 0.5137 - val_loss: 0.0323 - val_accuracy: 0.6343\n",
            "\n",
            "Epoch 00006: val_accuracy improved from 0.55556 to 0.63426, saving model to /content/drive/MyDrive/Traditional Food Classification/set 1/scratch_val_acc0.634.h5\n",
            "Epoch 7/100\n",
            "82/82 [==============================] - 58s 713ms/step - loss: 0.0372 - accuracy: 0.5660 - val_loss: 0.0376 - val_accuracy: 0.5139\n",
            "\n",
            "Epoch 00007: val_accuracy did not improve from 0.63426\n",
            "Epoch 8/100\n",
            "82/82 [==============================] - 58s 706ms/step - loss: 0.0369 - accuracy: 0.5635 - val_loss: 0.0302 - val_accuracy: 0.6389\n",
            "\n",
            "Epoch 00008: val_accuracy improved from 0.63426 to 0.63889, saving model to /content/drive/MyDrive/Traditional Food Classification/set 1/scratch_val_acc0.639.h5\n",
            "Epoch 9/100\n",
            "82/82 [==============================] - 58s 711ms/step - loss: 0.0366 - accuracy: 0.5658 - val_loss: 0.0311 - val_accuracy: 0.6250\n",
            "\n",
            "Epoch 00009: val_accuracy did not improve from 0.63889\n",
            "Epoch 10/100\n",
            "82/82 [==============================] - 58s 706ms/step - loss: 0.0355 - accuracy: 0.5845 - val_loss: 0.0280 - val_accuracy: 0.6852\n",
            "\n",
            "Epoch 00010: val_accuracy improved from 0.63889 to 0.68519, saving model to /content/drive/MyDrive/Traditional Food Classification/set 1/scratch_val_acc0.685.h5\n",
            "Epoch 11/100\n",
            "82/82 [==============================] - 57s 694ms/step - loss: 0.0352 - accuracy: 0.5936 - val_loss: 0.0306 - val_accuracy: 0.6528\n",
            "\n",
            "Epoch 00011: val_accuracy did not improve from 0.68519\n",
            "Epoch 12/100\n",
            "82/82 [==============================] - 58s 703ms/step - loss: 0.0336 - accuracy: 0.6292 - val_loss: 0.0289 - val_accuracy: 0.6852\n",
            "\n",
            "Epoch 00012: val_accuracy did not improve from 0.68519\n",
            "Epoch 13/100\n",
            "82/82 [==============================] - 57s 702ms/step - loss: 0.0329 - accuracy: 0.6218 - val_loss: 0.0254 - val_accuracy: 0.7222\n",
            "\n",
            "Epoch 00013: val_accuracy improved from 0.68519 to 0.72222, saving model to /content/drive/MyDrive/Traditional Food Classification/set 1/scratch_val_acc0.722.h5\n",
            "Epoch 14/100\n",
            "82/82 [==============================] - 58s 702ms/step - loss: 0.0323 - accuracy: 0.6386 - val_loss: 0.0279 - val_accuracy: 0.6528\n",
            "\n",
            "Epoch 00014: val_accuracy did not improve from 0.72222\n",
            "Epoch 15/100\n",
            "82/82 [==============================] - 57s 697ms/step - loss: 0.0317 - accuracy: 0.6442 - val_loss: 0.0256 - val_accuracy: 0.7130\n",
            "\n",
            "Epoch 00015: val_accuracy did not improve from 0.72222\n",
            "Epoch 16/100\n",
            "82/82 [==============================] - 57s 693ms/step - loss: 0.0300 - accuracy: 0.6691 - val_loss: 0.0227 - val_accuracy: 0.7315\n",
            "\n",
            "Epoch 00016: val_accuracy improved from 0.72222 to 0.73148, saving model to /content/drive/MyDrive/Traditional Food Classification/set 1/scratch_val_acc0.731.h5\n",
            "Epoch 17/100\n",
            "82/82 [==============================] - 57s 701ms/step - loss: 0.0283 - accuracy: 0.6776 - val_loss: 0.0274 - val_accuracy: 0.7037\n",
            "\n",
            "Epoch 00017: val_accuracy did not improve from 0.73148\n",
            "Epoch 18/100\n",
            "82/82 [==============================] - 58s 708ms/step - loss: 0.0283 - accuracy: 0.6804 - val_loss: 0.0236 - val_accuracy: 0.7269\n",
            "\n",
            "Epoch 00018: val_accuracy did not improve from 0.73148\n",
            "Epoch 19/100\n",
            "82/82 [==============================] - 58s 709ms/step - loss: 0.0269 - accuracy: 0.7161 - val_loss: 0.0224 - val_accuracy: 0.7407\n",
            "\n",
            "Epoch 00019: val_accuracy improved from 0.73148 to 0.74074, saving model to /content/drive/MyDrive/Traditional Food Classification/set 1/scratch_val_acc0.741.h5\n",
            "Epoch 20/100\n",
            "82/82 [==============================] - 58s 711ms/step - loss: 0.0270 - accuracy: 0.7077 - val_loss: 0.0246 - val_accuracy: 0.7269\n",
            "\n",
            "Epoch 00020: val_accuracy did not improve from 0.74074\n",
            "Epoch 21/100\n",
            "82/82 [==============================] - 58s 710ms/step - loss: 0.0267 - accuracy: 0.7079 - val_loss: 0.0241 - val_accuracy: 0.7407\n",
            "\n",
            "Epoch 00021: val_accuracy did not improve from 0.74074\n",
            "Epoch 22/100\n",
            "82/82 [==============================] - 58s 711ms/step - loss: 0.0273 - accuracy: 0.7003 - val_loss: 0.0236 - val_accuracy: 0.7593\n",
            "\n",
            "Epoch 00022: val_accuracy improved from 0.74074 to 0.75926, saving model to /content/drive/MyDrive/Traditional Food Classification/set 1/scratch_val_acc0.759.h5\n",
            "Epoch 23/100\n",
            "82/82 [==============================] - 59s 713ms/step - loss: 0.0254 - accuracy: 0.7241 - val_loss: 0.0221 - val_accuracy: 0.7593\n",
            "\n",
            "Epoch 00023: val_accuracy did not improve from 0.75926\n",
            "Epoch 24/100\n",
            "82/82 [==============================] - 59s 715ms/step - loss: 0.0242 - accuracy: 0.7438 - val_loss: 0.0317 - val_accuracy: 0.6574\n",
            "\n",
            "Epoch 00024: val_accuracy did not improve from 0.75926\n",
            "Epoch 25/100\n",
            "82/82 [==============================] - 59s 724ms/step - loss: 0.0267 - accuracy: 0.7092 - val_loss: 0.0256 - val_accuracy: 0.7222\n",
            "\n",
            "Epoch 00025: val_accuracy did not improve from 0.75926\n",
            "Epoch 26/100\n",
            "82/82 [==============================] - 58s 714ms/step - loss: 0.0247 - accuracy: 0.7383 - val_loss: 0.0214 - val_accuracy: 0.7731\n",
            "\n",
            "Epoch 00026: val_accuracy improved from 0.75926 to 0.77315, saving model to /content/drive/MyDrive/Traditional Food Classification/set 1/scratch_val_acc0.773.h5\n",
            "Epoch 27/100\n",
            "82/82 [==============================] - 58s 703ms/step - loss: 0.0223 - accuracy: 0.7672 - val_loss: 0.0243 - val_accuracy: 0.7454\n",
            "\n",
            "Epoch 00027: val_accuracy did not improve from 0.77315\n",
            "Epoch 28/100\n",
            "82/82 [==============================] - 57s 698ms/step - loss: 0.0222 - accuracy: 0.7616 - val_loss: 0.0196 - val_accuracy: 0.8009\n",
            "\n",
            "Epoch 00028: val_accuracy improved from 0.77315 to 0.80093, saving model to /content/drive/MyDrive/Traditional Food Classification/set 1/scratch_val_acc0.801.h5\n",
            "Epoch 29/100\n",
            "82/82 [==============================] - 58s 707ms/step - loss: 0.0203 - accuracy: 0.7888 - val_loss: 0.0213 - val_accuracy: 0.7593\n",
            "\n",
            "Epoch 00029: val_accuracy did not improve from 0.80093\n",
            "Epoch 30/100\n",
            "82/82 [==============================] - 58s 705ms/step - loss: 0.0224 - accuracy: 0.7660 - val_loss: 0.0193 - val_accuracy: 0.7917\n",
            "\n",
            "Epoch 00030: val_accuracy did not improve from 0.80093\n",
            "Epoch 31/100\n",
            "82/82 [==============================] - 58s 709ms/step - loss: 0.0206 - accuracy: 0.7763 - val_loss: 0.0221 - val_accuracy: 0.7685\n",
            "\n",
            "Epoch 00031: val_accuracy did not improve from 0.80093\n",
            "Epoch 32/100\n",
            "82/82 [==============================] - 58s 711ms/step - loss: 0.0201 - accuracy: 0.7892 - val_loss: 0.0174 - val_accuracy: 0.8333\n",
            "\n",
            "Epoch 00032: val_accuracy improved from 0.80093 to 0.83333, saving model to /content/drive/MyDrive/Traditional Food Classification/set 1/scratch_val_acc0.833.h5\n",
            "Epoch 33/100\n",
            "82/82 [==============================] - 57s 696ms/step - loss: 0.0218 - accuracy: 0.7739 - val_loss: 0.0200 - val_accuracy: 0.7731\n",
            "\n",
            "Epoch 00033: val_accuracy did not improve from 0.83333\n",
            "Epoch 34/100\n",
            "82/82 [==============================] - 58s 699ms/step - loss: 0.0191 - accuracy: 0.8014 - val_loss: 0.0218 - val_accuracy: 0.7685\n",
            "\n",
            "Epoch 00034: val_accuracy did not improve from 0.83333\n",
            "Epoch 35/100\n",
            "82/82 [==============================] - 58s 702ms/step - loss: 0.0194 - accuracy: 0.8048 - val_loss: 0.0191 - val_accuracy: 0.8009\n",
            "\n",
            "Epoch 00035: val_accuracy did not improve from 0.83333\n",
            "Epoch 36/100\n",
            "82/82 [==============================] - 58s 704ms/step - loss: 0.0189 - accuracy: 0.8063 - val_loss: 0.0245 - val_accuracy: 0.7731\n",
            "\n",
            "Epoch 00036: val_accuracy did not improve from 0.83333\n",
            "Epoch 37/100\n",
            "82/82 [==============================] - 57s 698ms/step - loss: 0.0170 - accuracy: 0.8249 - val_loss: 0.0212 - val_accuracy: 0.7731\n",
            "\n",
            "Epoch 00037: val_accuracy did not improve from 0.83333\n",
            "Epoch 38/100\n",
            "82/82 [==============================] - 57s 693ms/step - loss: 0.0191 - accuracy: 0.7975 - val_loss: 0.0195 - val_accuracy: 0.8148\n",
            "\n",
            "Epoch 00038: val_accuracy did not improve from 0.83333\n",
            "Epoch 39/100\n",
            "82/82 [==============================] - 57s 697ms/step - loss: 0.0158 - accuracy: 0.8442 - val_loss: 0.0198 - val_accuracy: 0.8009\n",
            "\n",
            "Epoch 00039: val_accuracy did not improve from 0.83333\n",
            "Epoch 40/100\n",
            "82/82 [==============================] - 57s 698ms/step - loss: 0.0157 - accuracy: 0.8358 - val_loss: 0.0173 - val_accuracy: 0.8056\n",
            "\n",
            "Epoch 00040: val_accuracy did not improve from 0.83333\n",
            "Epoch 41/100\n",
            "82/82 [==============================] - 57s 699ms/step - loss: 0.0180 - accuracy: 0.8121 - val_loss: 0.0186 - val_accuracy: 0.8056\n",
            "\n",
            "Epoch 00041: val_accuracy did not improve from 0.83333\n",
            "Epoch 42/100\n",
            "82/82 [==============================] - 57s 689ms/step - loss: 0.0152 - accuracy: 0.8499 - val_loss: 0.0188 - val_accuracy: 0.8148\n",
            "\n",
            "Epoch 00042: val_accuracy did not improve from 0.83333\n",
            "Epoch 43/100\n",
            "82/82 [==============================] - 57s 691ms/step - loss: 0.0147 - accuracy: 0.8509 - val_loss: 0.0222 - val_accuracy: 0.7685\n",
            "\n",
            "Epoch 00043: val_accuracy did not improve from 0.83333\n",
            "Epoch 44/100\n",
            "82/82 [==============================] - 57s 692ms/step - loss: 0.0156 - accuracy: 0.8384 - val_loss: 0.0206 - val_accuracy: 0.7824\n",
            "\n",
            "Epoch 00044: val_accuracy did not improve from 0.83333\n",
            "Epoch 45/100\n",
            "82/82 [==============================] - 57s 695ms/step - loss: 0.0145 - accuracy: 0.8573 - val_loss: 0.0183 - val_accuracy: 0.8102\n",
            "\n",
            "Epoch 00045: val_accuracy did not improve from 0.83333\n",
            "Epoch 46/100\n",
            "82/82 [==============================] - 57s 690ms/step - loss: 0.0134 - accuracy: 0.8623 - val_loss: 0.0210 - val_accuracy: 0.7824\n",
            "\n",
            "Epoch 00046: val_accuracy did not improve from 0.83333\n",
            "Epoch 47/100\n",
            "82/82 [==============================] - 57s 700ms/step - loss: 0.0145 - accuracy: 0.8511 - val_loss: 0.0186 - val_accuracy: 0.8056\n",
            "\n",
            "Epoch 00047: val_accuracy did not improve from 0.83333\n",
            "Epoch 48/100\n",
            "82/82 [==============================] - 57s 691ms/step - loss: 0.0135 - accuracy: 0.8600 - val_loss: 0.0168 - val_accuracy: 0.8241\n",
            "\n",
            "Epoch 00048: val_accuracy did not improve from 0.83333\n",
            "Epoch 49/100\n",
            "82/82 [==============================] - 57s 691ms/step - loss: 0.0137 - accuracy: 0.8574 - val_loss: 0.0203 - val_accuracy: 0.8056\n",
            "\n",
            "Epoch 00049: val_accuracy did not improve from 0.83333\n",
            "Epoch 50/100\n",
            "82/82 [==============================] - 57s 700ms/step - loss: 0.0137 - accuracy: 0.8646 - val_loss: 0.0170 - val_accuracy: 0.8194\n",
            "\n",
            "Epoch 00050: val_accuracy did not improve from 0.83333\n",
            "Epoch 51/100\n",
            "82/82 [==============================] - 57s 693ms/step - loss: 0.0116 - accuracy: 0.8858 - val_loss: 0.0163 - val_accuracy: 0.8380\n",
            "\n",
            "Epoch 00051: val_accuracy improved from 0.83333 to 0.83796, saving model to /content/drive/MyDrive/Traditional Food Classification/set 1/scratch_val_acc0.838.h5\n",
            "Epoch 52/100\n",
            "82/82 [==============================] - 57s 702ms/step - loss: 0.0126 - accuracy: 0.8673 - val_loss: 0.0177 - val_accuracy: 0.8102\n",
            "\n",
            "Epoch 00052: val_accuracy did not improve from 0.83796\n",
            "Epoch 53/100\n",
            "82/82 [==============================] - 58s 700ms/step - loss: 0.0118 - accuracy: 0.8828 - val_loss: 0.0201 - val_accuracy: 0.7917\n",
            "\n",
            "Epoch 00053: val_accuracy did not improve from 0.83796\n",
            "Epoch 54/100\n",
            "82/82 [==============================] - 59s 716ms/step - loss: 0.0128 - accuracy: 0.8740 - val_loss: 0.0181 - val_accuracy: 0.8102\n",
            "\n",
            "Epoch 00054: val_accuracy did not improve from 0.83796\n",
            "Epoch 55/100\n",
            "82/82 [==============================] - 59s 712ms/step - loss: 0.0113 - accuracy: 0.8888 - val_loss: 0.0182 - val_accuracy: 0.8056\n",
            "\n",
            "Epoch 00055: val_accuracy did not improve from 0.83796\n",
            "Epoch 56/100\n",
            "82/82 [==============================] - 59s 719ms/step - loss: 0.0110 - accuracy: 0.8904 - val_loss: 0.0160 - val_accuracy: 0.8287\n",
            "\n",
            "Epoch 00056: val_accuracy did not improve from 0.83796\n",
            "Epoch 57/100\n",
            "82/82 [==============================] - 59s 711ms/step - loss: 0.0110 - accuracy: 0.8857 - val_loss: 0.0191 - val_accuracy: 0.8194\n",
            "\n",
            "Epoch 00057: val_accuracy did not improve from 0.83796\n",
            "Epoch 58/100\n",
            "82/82 [==============================] - 59s 723ms/step - loss: 0.0098 - accuracy: 0.9015 - val_loss: 0.0182 - val_accuracy: 0.8194\n",
            "\n",
            "Epoch 00058: val_accuracy did not improve from 0.83796\n",
            "Epoch 59/100\n",
            "82/82 [==============================] - 59s 715ms/step - loss: 0.0110 - accuracy: 0.8914 - val_loss: 0.0183 - val_accuracy: 0.8056\n",
            "\n",
            "Epoch 00059: val_accuracy did not improve from 0.83796\n",
            "Epoch 60/100\n",
            "82/82 [==============================] - 58s 712ms/step - loss: 0.0093 - accuracy: 0.9034 - val_loss: 0.0179 - val_accuracy: 0.8102\n",
            "\n",
            "Epoch 00060: val_accuracy did not improve from 0.83796\n",
            "Epoch 61/100\n",
            "82/82 [==============================] - 61s 735ms/step - loss: 0.0088 - accuracy: 0.9060 - val_loss: 0.0181 - val_accuracy: 0.8102\n",
            "\n",
            "Epoch 00061: val_accuracy did not improve from 0.83796\n",
            "Epoch 62/100\n",
            "82/82 [==============================] - 59s 719ms/step - loss: 0.0091 - accuracy: 0.9108 - val_loss: 0.0166 - val_accuracy: 0.8241\n",
            "\n",
            "Epoch 00062: val_accuracy did not improve from 0.83796\n",
            "Epoch 63/100\n",
            "82/82 [==============================] - 59s 715ms/step - loss: 0.0084 - accuracy: 0.9176 - val_loss: 0.0182 - val_accuracy: 0.8241\n",
            "\n",
            "Epoch 00063: val_accuracy did not improve from 0.83796\n",
            "Epoch 64/100\n",
            "82/82 [==============================] - 59s 725ms/step - loss: 0.0088 - accuracy: 0.9134 - val_loss: 0.0168 - val_accuracy: 0.8102\n",
            "\n",
            "Epoch 00064: val_accuracy did not improve from 0.83796\n",
            "Epoch 65/100\n",
            "82/82 [==============================] - 59s 714ms/step - loss: 0.0091 - accuracy: 0.9102 - val_loss: 0.0169 - val_accuracy: 0.8380\n",
            "\n",
            "Epoch 00065: val_accuracy did not improve from 0.83796\n",
            "Epoch 66/100\n",
            "82/82 [==============================] - 59s 716ms/step - loss: 0.0098 - accuracy: 0.9055 - val_loss: 0.0172 - val_accuracy: 0.8241\n",
            "\n",
            "Epoch 00066: val_accuracy did not improve from 0.83796\n",
            "Epoch 67/100\n",
            "82/82 [==============================] - 58s 711ms/step - loss: 0.0091 - accuracy: 0.9104 - val_loss: 0.0177 - val_accuracy: 0.8194\n",
            "\n",
            "Epoch 00067: val_accuracy did not improve from 0.83796\n",
            "Epoch 68/100\n",
            "82/82 [==============================] - 59s 713ms/step - loss: 0.0079 - accuracy: 0.9262 - val_loss: 0.0173 - val_accuracy: 0.8241\n",
            "\n",
            "Epoch 00068: val_accuracy did not improve from 0.83796\n",
            "Epoch 69/100\n",
            "82/82 [==============================] - 58s 711ms/step - loss: 0.0090 - accuracy: 0.9059 - val_loss: 0.0162 - val_accuracy: 0.8333\n",
            "\n",
            "Epoch 00069: val_accuracy did not improve from 0.83796\n",
            "Epoch 70/100\n",
            "82/82 [==============================] - 58s 709ms/step - loss: 0.0071 - accuracy: 0.9304 - val_loss: 0.0167 - val_accuracy: 0.8148\n",
            "\n",
            "Epoch 00070: val_accuracy did not improve from 0.83796\n",
            "Epoch 71/100\n",
            "82/82 [==============================] - 58s 705ms/step - loss: 0.0065 - accuracy: 0.9381 - val_loss: 0.0207 - val_accuracy: 0.7917\n",
            "\n",
            "Epoch 00071: val_accuracy did not improve from 0.83796\n",
            "Epoch 72/100\n",
            "82/82 [==============================] - 58s 708ms/step - loss: 0.0082 - accuracy: 0.9189 - val_loss: 0.0206 - val_accuracy: 0.8009\n",
            "\n",
            "Epoch 00072: val_accuracy did not improve from 0.83796\n",
            "Epoch 73/100\n",
            "82/82 [==============================] - 58s 702ms/step - loss: 0.0075 - accuracy: 0.9289 - val_loss: 0.0182 - val_accuracy: 0.8287\n",
            "\n",
            "Epoch 00073: val_accuracy did not improve from 0.83796\n",
            "Epoch 74/100\n",
            "82/82 [==============================] - 57s 698ms/step - loss: 0.0071 - accuracy: 0.9307 - val_loss: 0.0145 - val_accuracy: 0.8565\n",
            "\n",
            "Epoch 00074: val_accuracy improved from 0.83796 to 0.85648, saving model to /content/drive/MyDrive/Traditional Food Classification/set 1/scratch_val_acc0.856.h5\n",
            "Epoch 75/100\n",
            "82/82 [==============================] - 57s 698ms/step - loss: 0.0059 - accuracy: 0.9453 - val_loss: 0.0180 - val_accuracy: 0.8194\n",
            "\n",
            "Epoch 00075: val_accuracy did not improve from 0.85648\n",
            "Epoch 76/100\n",
            "82/82 [==============================] - 57s 695ms/step - loss: 0.0060 - accuracy: 0.9395 - val_loss: 0.0171 - val_accuracy: 0.8287\n",
            "\n",
            "Epoch 00076: val_accuracy did not improve from 0.85648\n",
            "Epoch 77/100\n",
            "82/82 [==============================] - 57s 695ms/step - loss: 0.0064 - accuracy: 0.9349 - val_loss: 0.0193 - val_accuracy: 0.8056\n",
            "\n",
            "Epoch 00077: val_accuracy did not improve from 0.85648\n",
            "Epoch 78/100\n",
            "82/82 [==============================] - 57s 696ms/step - loss: 0.0072 - accuracy: 0.9304 - val_loss: 0.0164 - val_accuracy: 0.8333\n",
            "\n",
            "Epoch 00078: val_accuracy did not improve from 0.85648\n",
            "Epoch 79/100\n",
            "82/82 [==============================] - 57s 693ms/step - loss: 0.0070 - accuracy: 0.9298 - val_loss: 0.0168 - val_accuracy: 0.8241\n",
            "\n",
            "Epoch 00079: val_accuracy did not improve from 0.85648\n",
            "Epoch 80/100\n",
            "82/82 [==============================] - 57s 695ms/step - loss: 0.0069 - accuracy: 0.9334 - val_loss: 0.0178 - val_accuracy: 0.8102\n",
            "\n",
            "Epoch 00080: val_accuracy did not improve from 0.85648\n",
            "Epoch 81/100\n",
            "82/82 [==============================] - 58s 700ms/step - loss: 0.0070 - accuracy: 0.9307 - val_loss: 0.0152 - val_accuracy: 0.8426\n",
            "\n",
            "Epoch 00081: val_accuracy did not improve from 0.85648\n",
            "Epoch 82/100\n",
            "82/82 [==============================] - 57s 702ms/step - loss: 0.0050 - accuracy: 0.9503 - val_loss: 0.0165 - val_accuracy: 0.8287\n",
            "\n",
            "Epoch 00082: val_accuracy did not improve from 0.85648\n",
            "Epoch 83/100\n",
            "82/82 [==============================] - 59s 725ms/step - loss: 0.0059 - accuracy: 0.9466 - val_loss: 0.0171 - val_accuracy: 0.8333\n",
            "\n",
            "Epoch 00083: val_accuracy did not improve from 0.85648\n",
            "Epoch 84/100\n",
            "82/82 [==============================] - 59s 717ms/step - loss: 0.0059 - accuracy: 0.9395 - val_loss: 0.0163 - val_accuracy: 0.8380\n",
            "\n",
            "Epoch 00084: val_accuracy did not improve from 0.85648\n",
            "Epoch 85/100\n",
            "82/82 [==============================] - 59s 713ms/step - loss: 0.0045 - accuracy: 0.9558 - val_loss: 0.0168 - val_accuracy: 0.8241\n",
            "\n",
            "Epoch 00085: val_accuracy did not improve from 0.85648\n",
            "Epoch 86/100\n",
            "82/82 [==============================] - 57s 702ms/step - loss: 0.0048 - accuracy: 0.9532 - val_loss: 0.0191 - val_accuracy: 0.8102\n",
            "\n",
            "Epoch 00086: val_accuracy did not improve from 0.85648\n",
            "Epoch 87/100\n",
            "82/82 [==============================] - 57s 701ms/step - loss: 0.0050 - accuracy: 0.9510 - val_loss: 0.0187 - val_accuracy: 0.8102\n",
            "\n",
            "Epoch 00087: val_accuracy did not improve from 0.85648\n",
            "Epoch 88/100\n",
            "82/82 [==============================] - 58s 702ms/step - loss: 0.0041 - accuracy: 0.9622 - val_loss: 0.0172 - val_accuracy: 0.8194\n",
            "\n",
            "Epoch 00088: val_accuracy did not improve from 0.85648\n",
            "Epoch 89/100\n",
            "82/82 [==============================] - 57s 699ms/step - loss: 0.0051 - accuracy: 0.9483 - val_loss: 0.0173 - val_accuracy: 0.8287\n",
            "\n",
            "Epoch 00089: val_accuracy did not improve from 0.85648\n",
            "Epoch 90/100\n",
            "82/82 [==============================] - 58s 705ms/step - loss: 0.0053 - accuracy: 0.9458 - val_loss: 0.0179 - val_accuracy: 0.8333\n",
            "\n",
            "Epoch 00090: val_accuracy did not improve from 0.85648\n",
            "Epoch 91/100\n",
            "82/82 [==============================] - 58s 715ms/step - loss: 0.0044 - accuracy: 0.9590 - val_loss: 0.0188 - val_accuracy: 0.8241\n",
            "\n",
            "Epoch 00091: val_accuracy did not improve from 0.85648\n",
            "Epoch 92/100\n",
            "82/82 [==============================] - 58s 709ms/step - loss: 0.0047 - accuracy: 0.9587 - val_loss: 0.0180 - val_accuracy: 0.8333\n",
            "\n",
            "Epoch 00092: val_accuracy did not improve from 0.85648\n",
            "Epoch 93/100\n",
            "82/82 [==============================] - 58s 704ms/step - loss: 0.0037 - accuracy: 0.9657 - val_loss: 0.0183 - val_accuracy: 0.8241\n",
            "\n",
            "Epoch 00093: val_accuracy did not improve from 0.85648\n",
            "Epoch 94/100\n",
            "82/82 [==============================] - 57s 697ms/step - loss: 0.0053 - accuracy: 0.9485 - val_loss: 0.0154 - val_accuracy: 0.8519\n",
            "\n",
            "Epoch 00094: val_accuracy did not improve from 0.85648\n",
            "Epoch 95/100\n",
            "82/82 [==============================] - 58s 701ms/step - loss: 0.0038 - accuracy: 0.9655 - val_loss: 0.0160 - val_accuracy: 0.8380\n",
            "\n",
            "Epoch 00095: val_accuracy did not improve from 0.85648\n",
            "Epoch 96/100\n",
            "82/82 [==============================] - 57s 691ms/step - loss: 0.0047 - accuracy: 0.9557 - val_loss: 0.0170 - val_accuracy: 0.8194\n",
            "\n",
            "Epoch 00096: val_accuracy did not improve from 0.85648\n",
            "Epoch 97/100\n",
            "82/82 [==============================] - 57s 699ms/step - loss: 0.0040 - accuracy: 0.9628 - val_loss: 0.0173 - val_accuracy: 0.8287\n",
            "\n",
            "Epoch 00097: val_accuracy did not improve from 0.85648\n",
            "Epoch 98/100\n",
            "82/82 [==============================] - 57s 700ms/step - loss: 0.0037 - accuracy: 0.9631 - val_loss: 0.0154 - val_accuracy: 0.8611\n",
            "\n",
            "Epoch 00098: val_accuracy improved from 0.85648 to 0.86111, saving model to /content/drive/MyDrive/Traditional Food Classification/set 1/scratch_val_acc0.861.h5\n",
            "Epoch 99/100\n",
            "82/82 [==============================] - 58s 704ms/step - loss: 0.0035 - accuracy: 0.9641 - val_loss: 0.0216 - val_accuracy: 0.7870\n",
            "\n",
            "Epoch 00099: val_accuracy did not improve from 0.86111\n",
            "Epoch 100/100\n",
            "82/82 [==============================] - 58s 701ms/step - loss: 0.0048 - accuracy: 0.9533 - val_loss: 0.0164 - val_accuracy: 0.8333\n",
            "\n",
            "Epoch 00100: val_accuracy did not improve from 0.86111\n"
          ],
          "name": "stdout"
        }
      ]
    },
    {
      "cell_type": "code",
      "metadata": {
        "id": "PIDIAjNAO-4O"
      },
      "source": [
        "from tensorflow.keras.models import model_from_json"
      ],
      "execution_count": null,
      "outputs": []
    },
    {
      "cell_type": "code",
      "metadata": {
        "id": "_1GSVeJTO-4i",
        "colab": {
          "base_uri": "https://localhost:8080/"
        },
        "outputId": "ce5366fa-8d5e-491b-f12c-238718898c90"
      },
      "source": [
        "json_file = open('/content/drive/MyDrive/Traditional Food Classification/set 1/scratch_86%.json', 'r')\n",
        "loaded_model_json = json_file.read()\n",
        "json_file.close()\n",
        "loaded_model = model_from_json(loaded_model_json)\n",
        "# load weights into new model\n",
        "loaded_model.load_weights(\"/content/drive/MyDrive/Traditional Food Classification/set 1/scratch_val_acc0.861.h5\")\n",
        "print(\"Loaded model from disk\")"
      ],
      "execution_count": null,
      "outputs": [
        {
          "output_type": "stream",
          "text": [
            "Loaded model from disk\n"
          ],
          "name": "stdout"
        }
      ]
    },
    {
      "cell_type": "code",
      "metadata": {
        "colab": {
          "base_uri": "https://localhost:8080/"
        },
        "id": "bvByWVQbR_jH",
        "outputId": "adb7c654-8c9a-4709-d088-d0d0b30c12fb"
      },
      "source": [
        "loaded_model.summary()"
      ],
      "execution_count": null,
      "outputs": [
        {
          "output_type": "stream",
          "text": [
            "Model: \"sequential_2\"\n",
            "_________________________________________________________________\n",
            "Layer (type)                 Output Shape              Param #   \n",
            "=================================================================\n",
            "conv2d_12 (Conv2D)           (None, 224, 224, 32)      896       \n",
            "_________________________________________________________________\n",
            "max_pooling2d_12 (MaxPooling (None, 112, 112, 32)      0         \n",
            "_________________________________________________________________\n",
            "conv2d_13 (Conv2D)           (None, 112, 112, 64)      18496     \n",
            "_________________________________________________________________\n",
            "max_pooling2d_13 (MaxPooling (None, 56, 56, 64)        0         \n",
            "_________________________________________________________________\n",
            "conv2d_14 (Conv2D)           (None, 56, 56, 64)        36928     \n",
            "_________________________________________________________________\n",
            "max_pooling2d_14 (MaxPooling (None, 28, 28, 64)        0         \n",
            "_________________________________________________________________\n",
            "conv2d_15 (Conv2D)           (None, 28, 28, 128)       204928    \n",
            "_________________________________________________________________\n",
            "max_pooling2d_15 (MaxPooling (None, 14, 14, 128)       0         \n",
            "_________________________________________________________________\n",
            "conv2d_16 (Conv2D)           (None, 14, 14, 128)       409728    \n",
            "_________________________________________________________________\n",
            "max_pooling2d_16 (MaxPooling (None, 7, 7, 128)         0         \n",
            "_________________________________________________________________\n",
            "conv2d_17 (Conv2D)           (None, 7, 7, 256)         819456    \n",
            "_________________________________________________________________\n",
            "max_pooling2d_17 (MaxPooling (None, 3, 3, 256)         0         \n",
            "_________________________________________________________________\n",
            "flatten_2 (Flatten)          (None, 2304)              0         \n",
            "_________________________________________________________________\n",
            "dense_4 (Dense)              (None, 128)               295040    \n",
            "_________________________________________________________________\n",
            "dropout_2 (Dropout)          (None, 128)               0         \n",
            "_________________________________________________________________\n",
            "dense_5 (Dense)              (None, 7)                 903       \n",
            "=================================================================\n",
            "Total params: 1,786,375\n",
            "Trainable params: 1,786,375\n",
            "Non-trainable params: 0\n",
            "_________________________________________________________________\n"
          ],
          "name": "stdout"
        }
      ]
    },
    {
      "cell_type": "code",
      "metadata": {
        "id": "Gk6LSHUwdrt3",
        "colab": {
          "base_uri": "https://localhost:8080/"
        },
        "outputId": "3a4e47a4-b4cb-4824-cc97-a36a603af4f3"
      },
      "source": [
        "# y_true = np.array([np.where(label[0][i] == 1)[0][0] for i in range(216)])\n",
        "# y_true.shape\n",
        "y_true=valid.labels\n",
        "y_true"
      ],
      "execution_count": null,
      "outputs": [
        {
          "output_type": "execute_result",
          "data": {
            "text/plain": [
              "array([0, 0, 0, 0, 0, 0, 0, 0, 0, 0, 0, 0, 0, 0, 0, 0, 0, 0, 0, 0, 0, 1,\n",
              "       1, 1, 1, 1, 1, 1, 1, 1, 1, 1, 1, 1, 1, 1, 1, 1, 1, 2, 2, 2, 2, 2,\n",
              "       2, 2, 2, 2, 2, 2, 2, 2, 2, 2, 2, 2, 2, 2, 2, 2, 2, 2, 2, 2, 2, 2,\n",
              "       2, 2, 2, 2, 2, 2, 2, 2, 3, 3, 3, 3, 3, 3, 3, 3, 3, 3, 3, 3, 3, 3,\n",
              "       3, 3, 3, 3, 3, 3, 3, 3, 3, 3, 3, 3, 3, 3, 3, 3, 3, 3, 3, 3, 3, 3,\n",
              "       3, 3, 3, 3, 3, 3, 3, 4, 4, 4, 4, 4, 4, 4, 4, 4, 4, 4, 4, 4, 4, 4,\n",
              "       4, 4, 4, 4, 4, 4, 4, 4, 4, 4, 5, 5, 5, 5, 5, 5, 5, 5, 5, 5, 5, 5,\n",
              "       5, 5, 5, 5, 5, 5, 5, 5, 5, 5, 5, 5, 5, 5, 5, 5, 5, 5, 5, 5, 5, 5,\n",
              "       5, 5, 5, 5, 6, 6, 6, 6, 6, 6, 6, 6, 6, 6, 6, 6, 6, 6, 6, 6, 6, 6,\n",
              "       6, 6, 6, 6, 6, 6, 6, 6, 6, 6, 6, 6, 6, 6, 6, 6, 6, 6], dtype=int32)"
            ]
          },
          "metadata": {
            "tags": []
          },
          "execution_count": 9
        }
      ]
    },
    {
      "cell_type": "code",
      "metadata": {
        "id": "HS1d1XAXdrt6",
        "colab": {
          "base_uri": "https://localhost:8080/"
        },
        "outputId": "30c7a564-d4ab-4b7c-e01f-0f53d8c5dfef"
      },
      "source": [
        "from sklearn.metrics import classification_report, confusion_matrix\n",
        "\n",
        "Y_pred = loaded_model.predict_generator(valid, 6)\n",
        "y_pred = np.argmax(Y_pred, axis=1)"
      ],
      "execution_count": null,
      "outputs": [
        {
          "output_type": "stream",
          "text": [
            "/usr/local/lib/python3.7/dist-packages/tensorflow/python/keras/engine/training.py:1905: UserWarning: `Model.predict_generator` is deprecated and will be removed in a future version. Please use `Model.predict`, which supports generators.\n",
            "  warnings.warn('`Model.predict_generator` is deprecated and '\n"
          ],
          "name": "stderr"
        }
      ]
    },
    {
      "cell_type": "code",
      "metadata": {
        "id": "uk_UjQQxdrt8",
        "colab": {
          "base_uri": "https://localhost:8080/"
        },
        "outputId": "6bc2a875-023c-4c9a-d2bf-308a0efaea03"
      },
      "source": [
        "print('Confusion Matrix')\n",
        "conf_mat=confusion_matrix(y_true, y_pred)\n",
        "print(conf_mat)\n",
        "print('Classification Report')\n",
        "print(classification_report(y_true, y_pred, target_names=['Kala_Vuna','Panta_Ilish','Biriyani','Khichuri','Dim_Vuna','Fuchka','Rosogolla']))"
      ],
      "execution_count": null,
      "outputs": [
        {
          "output_type": "stream",
          "text": [
            "Confusion Matrix\n",
            "[[21  0  0  0  0  0  0]\n",
            " [ 0 12  2  1  0  3  0]\n",
            " [ 0  0 30  4  1  0  0]\n",
            " [ 0  0  2 40  1  0  0]\n",
            " [ 1  0  0  1 22  1  0]\n",
            " [ 0  1  5  3  0 29  0]\n",
            " [ 0  0  1  0  0  3 32]]\n",
            "Classification Report\n",
            "              precision    recall  f1-score   support\n",
            "\n",
            "   Kala_Vuna       0.95      1.00      0.98        21\n",
            " Panta_Ilish       0.92      0.67      0.77        18\n",
            "    Biriyani       0.75      0.86      0.80        35\n",
            "    Khichuri       0.82      0.93      0.87        43\n",
            "    Dim_Vuna       0.92      0.88      0.90        25\n",
            "      Fuchka       0.81      0.76      0.78        38\n",
            "   Rosogolla       1.00      0.89      0.94        36\n",
            "\n",
            "    accuracy                           0.86       216\n",
            "   macro avg       0.88      0.86      0.86       216\n",
            "weighted avg       0.87      0.86      0.86       216\n",
            "\n"
          ],
          "name": "stdout"
        }
      ]
    },
    {
      "cell_type": "code",
      "metadata": {
        "id": "ikoOjr28drt_",
        "colab": {
          "base_uri": "https://localhost:8080/",
          "height": 325
        },
        "outputId": "e539cc86-acba-47e6-f7cf-01f23c035ac9"
      },
      "source": [
        "import numpy as np\n",
        "import matplotlib.pyplot as plt\n",
        "import seaborn as sns\n",
        "\n",
        "def make_confusion_matrix(cf,group_names=None,categories='auto', count=True,percent=True,cbar=True,xyticks=True,\n",
        "                          xyplotlabels=True,sum_stats=True,figsize=None,cmap='Blues', title=None):\n",
        "\n",
        "    blanks = ['' for i in range(cf.size)]\n",
        "\n",
        "    if group_names and len(group_names)==cf.size:\n",
        "        group_labels = [\"{}\\n\".format(value) for value in group_names]\n",
        "    else:\n",
        "        group_labels = blanks\n",
        "    if count:\n",
        "        group_counts = [\"{0:0.0f}\\n\".format(value) for value in cf.flatten()]\n",
        "    else:\n",
        "        group_counts = blanks\n",
        "    if percent:\n",
        "        # group_percentages = [\"{0:.2%}\".format(value) for value in cf.flatten()/np.sum(cf)]\n",
        "        # group_percentages = [\"{0:.2%}\".format(value) for value in np.array([cf/np.sum(cf) for cf in cf]).flatten()]\n",
        "        group_percentages = [\"{0:.2%}\".format(value) for value in np.array([cnf/np.sum(cnf) for cnf in cf]).flatten()]\n",
        "    else:\n",
        "        group_percentages = blanks\n",
        "\n",
        "    box_labels = [f\"{v1}{v2}{v3}\".strip() for v1, v2, v3 in zip(group_labels,group_counts,group_percentages)]\n",
        "    box_labels = np.asarray(box_labels).reshape(cf.shape[0],cf.shape[1])\n",
        "\n",
        "    if sum_stats:\n",
        "        accuracy  = np.trace(cf) / float(np.sum(cf))\n",
        "\n",
        "        if len(cf)==2:\n",
        "            precision = cf[1,1] / sum(cf[:,1])\n",
        "            recall    = cf[1,1] / sum(cf[1,:])\n",
        "            f1_score  = 2*precision*recall / (precision + recall)\n",
        "            stats_text = \"\\n\\nAccuracy={:0.3f}\\nPrecision={:0.3f}\\nRecall={:0.3f}\\nF1 Score={:0.3f}\".format(\n",
        "                accuracy,precision,recall,f1_score)\n",
        "        else:\n",
        "            stats_text = \"\\n\\nAccuracy={:0.3f}\".format(accuracy)\n",
        "    else:\n",
        "        stats_text = \"\"\n",
        "\n",
        "    if figsize==None:\n",
        "        figsize = plt.rcParams.get('figure.figsize')\n",
        "\n",
        "    if xyticks==False:\n",
        "        categories=False\n",
        "\n",
        "    plt.figure(figsize=figsize)\n",
        "    sns.heatmap(cf,annot=box_labels,fmt=\"\",cmap=cmap,cbar=cbar,xticklabels=categories,yticklabels=categories)\n",
        "\n",
        "    if xyplotlabels:\n",
        "        plt.ylabel('True label')\n",
        "        plt.yticks(rotation=0)\n",
        "        plt.xlabel('Predicted label' + stats_text)\n",
        "        plt.xticks(rotation=25)\n",
        "        plt.savefig('conf.jpeg',dpi=600)\n",
        "    else:\n",
        "        plt.xlabel(stats_text)\n",
        "        plt.yticks(rotation=0)\n",
        "        plt.xticks(rotation=25)\n",
        "        plt.savefig('conf.jpeg',dpi=600)\n",
        "    if title:\n",
        "        plt.title(title)\n",
        "        plt.yticks(rotation=0)\n",
        "        plt.xticks(rotation=25)\n",
        "        plt.savefig('conf.jpeg',dpi=600)\n",
        "\n",
        "make_confusion_matrix(conf_mat, figsize=(7,4),percent=True,count=True,\n",
        "                      categories=['Kala_Vuna','Panta_Ilish','Biriyani','Khichuri','Dim_Vuna','Fuchka','Rosogolla'],\n",
        "                      cbar=False,cmap='YlOrBr')\n"
      ],
      "execution_count": null,
      "outputs": [
        {
          "output_type": "display_data",
          "data": {
            "image/png": "[encoded data removed]",
            "text/plain": [
              "<Figure size 504x288 with 1 Axes>"
            ]
          },
          "metadata": {
            "tags": [],
            "needs_background": "light"
          }
        }
      ]
    },
    {
      "cell_type": "markdown",
      "metadata": {
        "id": "sYpNQfnSgJgs"
      },
      "source": [
        "## Final Scratch Model (86% accuracy)"
      ]
    },
    {
      "cell_type": "markdown",
      "metadata": {
        "id": "d8GcPfu1l2JG"
      },
      "source": [
        "### Classes"
      ]
    },
    {
      "cell_type": "code",
      "metadata": {
        "colab": {
          "base_uri": "https://localhost:8080/"
        },
        "id": "VT4lJBygls0v",
        "outputId": "6e54f67d-0c0d-43d4-d0c5-57667c847dfd"
      },
      "source": [
        "classes=os.listdir('/content/drive/MyDrive/Traditional Food Classification/set 1/train_noise_and_noise_rot15_flipv/')\n",
        "classes"
      ],
      "execution_count": null,
      "outputs": [
        {
          "output_type": "execute_result",
          "data": {
            "text/plain": [
              "['কালা ভুনা',\n",
              " 'পান্তা ইলিশ',\n",
              " 'বিরিয়ানি',\n",
              " 'খিচুড়ি',\n",
              " 'ডিম ভুনা',\n",
              " 'ফুচকা',\n",
              " 'মিষ্টি,রসগোল্লা']"
            ]
          },
          "metadata": {
            "tags": []
          },
          "execution_count": 3
        }
      ]
    },
    {
      "cell_type": "markdown",
      "metadata": {
        "id": "nIolBbc1l4ni"
      },
      "source": [
        "### Pre-processing"
      ]
    },
    {
      "cell_type": "code",
      "metadata": {
        "id": "Mnd6Zt1Xls1b"
      },
      "source": [
        "train_data_aug = tf.keras.preprocessing.image.ImageDataGenerator(\n",
        "    rescale=1./255,\n",
        "    zoom_range=0.25,\n",
        "    horizontal_flip=True,\n",
        "    rotation_range=8,\n",
        "    width_shift_range=0.2,\n",
        "    height_shift_range=0.2,\n",
        "    shear_range=0.2,\n",
        "    )\n",
        "\n",
        "val_data_aug = tf.keras.preprocessing.image.ImageDataGenerator(\n",
        "    rescale=1./255,\n",
        "    )"
      ],
      "execution_count": null,
      "outputs": []
    },
    {
      "cell_type": "markdown",
      "metadata": {
        "id": "oFZbJHJ3l_2l"
      },
      "source": [
        "#### Train data"
      ]
    },
    {
      "cell_type": "code",
      "metadata": {
        "colab": {
          "base_uri": "https://localhost:8080/"
        },
        "id": "fllRn582ls1d",
        "outputId": "7571c104-ac7b-4bda-c68f-2e0120263be8"
      },
      "source": [
        "train_dir='/content/drive/MyDrive/Traditional Food Classification/set 1/train_noise_and_noise_rot15_flipv/'\n",
        "train=train_data_aug.flow_from_directory(directory=train_dir,\n",
        "        target_size=(224, 224),\n",
        "        batch_size=32,\n",
        "        color_mode=\"rgb\",\n",
        "        shuffle=True,\n",
        "        classes=classes,\n",
        "        class_mode='categorical')"
      ],
      "execution_count": null,
      "outputs": [
        {
          "output_type": "stream",
          "text": [
            "Found 2619 images belonging to 7 classes.\n"
          ],
          "name": "stdout"
        }
      ]
    },
    {
      "cell_type": "markdown",
      "metadata": {
        "id": "zOAs2HzbmCsU"
      },
      "source": [
        "#### Test data"
      ]
    },
    {
      "cell_type": "code",
      "metadata": {
        "colab": {
          "base_uri": "https://localhost:8080/"
        },
        "id": "3tbuNAR9ls1e",
        "outputId": "8364c1ea-8d81-4943-c251-caf264c5550d"
      },
      "source": [
        "valid_dir='/content/drive/MyDrive/Traditional Food Classification/set 1/validation'\n",
        "valid=val_data_aug.flow_from_directory(directory=valid_dir,\n",
        "        target_size=(224, 224),\n",
        "        batch_size=36,\n",
        "        color_mode=\"rgb\",\n",
        "        shuffle=False,\n",
        "        classes=classes,\n",
        "        class_mode='categorical')"
      ],
      "execution_count": null,
      "outputs": [
        {
          "output_type": "stream",
          "text": [
            "Found 216 images belonging to 7 classes.\n"
          ],
          "name": "stdout"
        }
      ]
    },
    {
      "cell_type": "markdown",
      "metadata": {
        "id": "r_edtw37mRuL"
      },
      "source": [
        "### Model"
      ]
    },
    {
      "cell_type": "code",
      "metadata": {
        "id": "Jc67atlBls1f"
      },
      "source": [
        "model = Sequential()\n",
        "\n",
        "input_shape=(224, 224, 3)\n",
        "\n",
        "model.add(Conv2D(32, (3, 3), strides=(1, 1),activation='relu', padding='same',input_shape=input_shape))\n",
        "model.add(MaxPooling2D((2, 2)))\n",
        "model.add(Conv2D(64, (3, 3), strides=(1, 1),activation='relu',padding='same'))\n",
        "model.add(MaxPooling2D((2, 2)))\n",
        "model.add(Conv2D(64, (3, 3), strides=(1, 1),activation='relu', padding='same'))\n",
        "model.add(MaxPooling2D((2, 2)))\n",
        "model.add(Conv2D(128, (5, 5), strides=(1, 1),activation='relu', padding='same'))\n",
        "model.add(MaxPooling2D((2, 2)))\n",
        "model.add(Conv2D(128, (5, 5), strides=(1, 1),activation='relu', padding='same'))\n",
        "\n",
        "model.add(MaxPooling2D((2, 2)))\n",
        "model.add(Conv2D(256, (5, 5), strides=(1, 1),activation='relu', padding='same'))\n",
        "model.add(MaxPooling2D((2, 2)))\n",
        "\n",
        "model.add(Flatten())\n",
        "\n",
        "model.add((Dense(128,activation='relu')))\n",
        "model.add(Dropout(0.4))\n",
        "# model.add((Dense(256,activation='relu')))\n",
        "\n",
        "model.add(Dense(7, activation='softmax'))"
      ],
      "execution_count": null,
      "outputs": []
    },
    {
      "cell_type": "code",
      "metadata": {
        "colab": {
          "base_uri": "https://localhost:8080/"
        },
        "id": "7SnK6_Utls1g",
        "outputId": "bba57e57-e3e5-4b9b-d300-060894cca26e"
      },
      "source": [
        "model.summary()"
      ],
      "execution_count": null,
      "outputs": [
        {
          "output_type": "stream",
          "text": [
            "Model: \"sequential\"\n",
            "_________________________________________________________________\n",
            "Layer (type)                 Output Shape              Param #   \n",
            "=================================================================\n",
            "conv2d (Conv2D)              (None, 224, 224, 32)      896       \n",
            "_________________________________________________________________\n",
            "max_pooling2d (MaxPooling2D) (None, 112, 112, 32)      0         \n",
            "_________________________________________________________________\n",
            "conv2d_1 (Conv2D)            (None, 112, 112, 64)      18496     \n",
            "_________________________________________________________________\n",
            "max_pooling2d_1 (MaxPooling2 (None, 56, 56, 64)        0         \n",
            "_________________________________________________________________\n",
            "conv2d_2 (Conv2D)            (None, 56, 56, 64)        36928     \n",
            "_________________________________________________________________\n",
            "max_pooling2d_2 (MaxPooling2 (None, 28, 28, 64)        0         \n",
            "_________________________________________________________________\n",
            "conv2d_3 (Conv2D)            (None, 28, 28, 128)       204928    \n",
            "_________________________________________________________________\n",
            "max_pooling2d_3 (MaxPooling2 (None, 14, 14, 128)       0         \n",
            "_________________________________________________________________\n",
            "conv2d_4 (Conv2D)            (None, 14, 14, 128)       409728    \n",
            "_________________________________________________________________\n",
            "max_pooling2d_4 (MaxPooling2 (None, 7, 7, 128)         0         \n",
            "_________________________________________________________________\n",
            "conv2d_5 (Conv2D)            (None, 7, 7, 256)         819456    \n",
            "_________________________________________________________________\n",
            "max_pooling2d_5 (MaxPooling2 (None, 3, 3, 256)         0         \n",
            "_________________________________________________________________\n",
            "flatten (Flatten)            (None, 2304)              0         \n",
            "_________________________________________________________________\n",
            "dense (Dense)                (None, 128)               295040    \n",
            "_________________________________________________________________\n",
            "dropout (Dropout)            (None, 128)               0         \n",
            "_________________________________________________________________\n",
            "dense_1 (Dense)              (None, 7)                 903       \n",
            "=================================================================\n",
            "Total params: 1,786,375\n",
            "Trainable params: 1,786,375\n",
            "Non-trainable params: 0\n",
            "_________________________________________________________________\n"
          ],
          "name": "stdout"
        }
      ]
    },
    {
      "cell_type": "markdown",
      "metadata": {
        "id": "n8htTsIcmWb-"
      },
      "source": [
        "#### Compiling hyperparameters"
      ]
    },
    {
      "cell_type": "code",
      "metadata": {
        "id": "Tkqe9fcSls1h"
      },
      "source": [
        "from tensorflow.keras.optimizers import Adam,RMSprop\n",
        "\n",
        "model.compile(loss='logcosh',\n",
        "              optimizer=Adam(lr=0.0001),\n",
        "              metrics=['accuracy'])"
      ],
      "execution_count": null,
      "outputs": []
    },
    {
      "cell_type": "markdown",
      "metadata": {
        "id": "9rUCompqmcqR"
      },
      "source": [
        "### Model Training"
      ]
    },
    {
      "cell_type": "code",
      "metadata": {
        "id": "igdip7WXls1i"
      },
      "source": [
        "from keras.callbacks import ModelCheckpoint\n",
        "\n",
        "filepath = '/content/drive/MyDrive/Traditional Food Classification/set 1/scratch_val_acc{val_accuracy:.3f}.h5'\n",
        "checkpoint = ModelCheckpoint(filepath, monitor='val_accuracy', verbose=1, save_best_only=True)"
      ],
      "execution_count": null,
      "outputs": []
    },
    {
      "cell_type": "code",
      "metadata": {
        "colab": {
          "base_uri": "https://localhost:8080/"
        },
        "id": "Xmr35OKZls1j",
        "outputId": "b50504bd-d7b6-4045-aee0-b65f6adf54c4"
      },
      "source": [
        "history = model.fit(train,validation_data=valid,shuffle=True,epochs=100,verbose=1,callbacks=[checkpoint])"
      ],
      "execution_count": null,
      "outputs": [
        {
          "output_type": "stream",
          "text": [
            "Epoch 1/100\n",
            "82/82 [==============================] - 706s 9s/step - loss: 0.0548 - accuracy: 0.2124 - val_loss: 0.0488 - val_accuracy: 0.3194\n",
            "\n",
            "Epoch 00001: val_accuracy improved from -inf to 0.31944, saving model to /content/drive/MyDrive/Traditional Food Classification/set 1/scratch_val_acc0.319.h5\n",
            "Epoch 2/100\n",
            "82/82 [==============================] - 58s 712ms/step - loss: 0.0499 - accuracy: 0.3317 - val_loss: 0.0443 - val_accuracy: 0.3889\n",
            "\n",
            "Epoch 00002: val_accuracy improved from 0.31944 to 0.38889, saving model to /content/drive/MyDrive/Traditional Food Classification/set 1/scratch_val_acc0.389.h5\n",
            "Epoch 3/100\n",
            "82/82 [==============================] - 58s 711ms/step - loss: 0.0464 - accuracy: 0.4085 - val_loss: 0.0392 - val_accuracy: 0.5278\n",
            "\n",
            "Epoch 00003: val_accuracy improved from 0.38889 to 0.52778, saving model to /content/drive/MyDrive/Traditional Food Classification/set 1/scratch_val_acc0.528.h5\n",
            "Epoch 4/100\n",
            "82/82 [==============================] - 58s 707ms/step - loss: 0.0432 - accuracy: 0.4683 - val_loss: 0.0379 - val_accuracy: 0.5556\n",
            "\n",
            "Epoch 00004: val_accuracy improved from 0.52778 to 0.55556, saving model to /content/drive/MyDrive/Traditional Food Classification/set 1/scratch_val_acc0.556.h5\n",
            "Epoch 5/100\n",
            "82/82 [==============================] - 58s 706ms/step - loss: 0.0420 - accuracy: 0.4807 - val_loss: 0.0428 - val_accuracy: 0.4630\n",
            "\n",
            "Epoch 00005: val_accuracy did not improve from 0.55556\n",
            "Epoch 6/100\n",
            "82/82 [==============================] - 58s 706ms/step - loss: 0.0396 - accuracy: 0.5137 - val_loss: 0.0323 - val_accuracy: 0.6343\n",
            "\n",
            "Epoch 00006: val_accuracy improved from 0.55556 to 0.63426, saving model to /content/drive/MyDrive/Traditional Food Classification/set 1/scratch_val_acc0.634.h5\n",
            "Epoch 7/100\n",
            "82/82 [==============================] - 58s 713ms/step - loss: 0.0372 - accuracy: 0.5660 - val_loss: 0.0376 - val_accuracy: 0.5139\n",
            "\n",
            "Epoch 00007: val_accuracy did not improve from 0.63426\n",
            "Epoch 8/100\n",
            "82/82 [==============================] - 58s 706ms/step - loss: 0.0369 - accuracy: 0.5635 - val_loss: 0.0302 - val_accuracy: 0.6389\n",
            "\n",
            "Epoch 00008: val_accuracy improved from 0.63426 to 0.63889, saving model to /content/drive/MyDrive/Traditional Food Classification/set 1/scratch_val_acc0.639.h5\n",
            "Epoch 9/100\n",
            "82/82 [==============================] - 58s 711ms/step - loss: 0.0366 - accuracy: 0.5658 - val_loss: 0.0311 - val_accuracy: 0.6250\n",
            "\n",
            "Epoch 00009: val_accuracy did not improve from 0.63889\n",
            "Epoch 10/100\n",
            "82/82 [==============================] - 58s 706ms/step - loss: 0.0355 - accuracy: 0.5845 - val_loss: 0.0280 - val_accuracy: 0.6852\n",
            "\n",
            "Epoch 00010: val_accuracy improved from 0.63889 to 0.68519, saving model to /content/drive/MyDrive/Traditional Food Classification/set 1/scratch_val_acc0.685.h5\n",
            "Epoch 11/100\n",
            "82/82 [==============================] - 57s 694ms/step - loss: 0.0352 - accuracy: 0.5936 - val_loss: 0.0306 - val_accuracy: 0.6528\n",
            "\n",
            "Epoch 00011: val_accuracy did not improve from 0.68519\n",
            "Epoch 12/100\n",
            "82/82 [==============================] - 58s 703ms/step - loss: 0.0336 - accuracy: 0.6292 - val_loss: 0.0289 - val_accuracy: 0.6852\n",
            "\n",
            "Epoch 00012: val_accuracy did not improve from 0.68519\n",
            "Epoch 13/100\n",
            "82/82 [==============================] - 57s 702ms/step - loss: 0.0329 - accuracy: 0.6218 - val_loss: 0.0254 - val_accuracy: 0.7222\n",
            "\n",
            "Epoch 00013: val_accuracy improved from 0.68519 to 0.72222, saving model to /content/drive/MyDrive/Traditional Food Classification/set 1/scratch_val_acc0.722.h5\n",
            "Epoch 14/100\n",
            "82/82 [==============================] - 58s 702ms/step - loss: 0.0323 - accuracy: 0.6386 - val_loss: 0.0279 - val_accuracy: 0.6528\n",
            "\n",
            "Epoch 00014: val_accuracy did not improve from 0.72222\n",
            "Epoch 15/100\n",
            "82/82 [==============================] - 57s 697ms/step - loss: 0.0317 - accuracy: 0.6442 - val_loss: 0.0256 - val_accuracy: 0.7130\n",
            "\n",
            "Epoch 00015: val_accuracy did not improve from 0.72222\n",
            "Epoch 16/100\n",
            "82/82 [==============================] - 57s 693ms/step - loss: 0.0300 - accuracy: 0.6691 - val_loss: 0.0227 - val_accuracy: 0.7315\n",
            "\n",
            "Epoch 00016: val_accuracy improved from 0.72222 to 0.73148, saving model to /content/drive/MyDrive/Traditional Food Classification/set 1/scratch_val_acc0.731.h5\n",
            "Epoch 17/100\n",
            "82/82 [==============================] - 57s 701ms/step - loss: 0.0283 - accuracy: 0.6776 - val_loss: 0.0274 - val_accuracy: 0.7037\n",
            "\n",
            "Epoch 00017: val_accuracy did not improve from 0.73148\n",
            "Epoch 18/100\n",
            "82/82 [==============================] - 58s 708ms/step - loss: 0.0283 - accuracy: 0.6804 - val_loss: 0.0236 - val_accuracy: 0.7269\n",
            "\n",
            "Epoch 00018: val_accuracy did not improve from 0.73148\n",
            "Epoch 19/100\n",
            "82/82 [==============================] - 58s 709ms/step - loss: 0.0269 - accuracy: 0.7161 - val_loss: 0.0224 - val_accuracy: 0.7407\n",
            "\n",
            "Epoch 00019: val_accuracy improved from 0.73148 to 0.74074, saving model to /content/drive/MyDrive/Traditional Food Classification/set 1/scratch_val_acc0.741.h5\n",
            "Epoch 20/100\n",
            "82/82 [==============================] - 58s 711ms/step - loss: 0.0270 - accuracy: 0.7077 - val_loss: 0.0246 - val_accuracy: 0.7269\n",
            "\n",
            "Epoch 00020: val_accuracy did not improve from 0.74074\n",
            "Epoch 21/100\n",
            "82/82 [==============================] - 58s 710ms/step - loss: 0.0267 - accuracy: 0.7079 - val_loss: 0.0241 - val_accuracy: 0.7407\n",
            "\n",
            "Epoch 00021: val_accuracy did not improve from 0.74074\n",
            "Epoch 22/100\n",
            "82/82 [==============================] - 58s 711ms/step - loss: 0.0273 - accuracy: 0.7003 - val_loss: 0.0236 - val_accuracy: 0.7593\n",
            "\n",
            "Epoch 00022: val_accuracy improved from 0.74074 to 0.75926, saving model to /content/drive/MyDrive/Traditional Food Classification/set 1/scratch_val_acc0.759.h5\n",
            "Epoch 23/100\n",
            "82/82 [==============================] - 59s 713ms/step - loss: 0.0254 - accuracy: 0.7241 - val_loss: 0.0221 - val_accuracy: 0.7593\n",
            "\n",
            "Epoch 00023: val_accuracy did not improve from 0.75926\n",
            "Epoch 24/100\n",
            "82/82 [==============================] - 59s 715ms/step - loss: 0.0242 - accuracy: 0.7438 - val_loss: 0.0317 - val_accuracy: 0.6574\n",
            "\n",
            "Epoch 00024: val_accuracy did not improve from 0.75926\n",
            "Epoch 25/100\n",
            "82/82 [==============================] - 59s 724ms/step - loss: 0.0267 - accuracy: 0.7092 - val_loss: 0.0256 - val_accuracy: 0.7222\n",
            "\n",
            "Epoch 00025: val_accuracy did not improve from 0.75926\n",
            "Epoch 26/100\n",
            "82/82 [==============================] - 58s 714ms/step - loss: 0.0247 - accuracy: 0.7383 - val_loss: 0.0214 - val_accuracy: 0.7731\n",
            "\n",
            "Epoch 00026: val_accuracy improved from 0.75926 to 0.77315, saving model to /content/drive/MyDrive/Traditional Food Classification/set 1/scratch_val_acc0.773.h5\n",
            "Epoch 27/100\n",
            "82/82 [==============================] - 58s 703ms/step - loss: 0.0223 - accuracy: 0.7672 - val_loss: 0.0243 - val_accuracy: 0.7454\n",
            "\n",
            "Epoch 00027: val_accuracy did not improve from 0.77315\n",
            "Epoch 28/100\n",
            "82/82 [==============================] - 57s 698ms/step - loss: 0.0222 - accuracy: 0.7616 - val_loss: 0.0196 - val_accuracy: 0.8009\n",
            "\n",
            "Epoch 00028: val_accuracy improved from 0.77315 to 0.80093, saving model to /content/drive/MyDrive/Traditional Food Classification/set 1/scratch_val_acc0.801.h5\n",
            "Epoch 29/100\n",
            "82/82 [==============================] - 58s 707ms/step - loss: 0.0203 - accuracy: 0.7888 - val_loss: 0.0213 - val_accuracy: 0.7593\n",
            "\n",
            "Epoch 00029: val_accuracy did not improve from 0.80093\n",
            "Epoch 30/100\n",
            "82/82 [==============================] - 58s 705ms/step - loss: 0.0224 - accuracy: 0.7660 - val_loss: 0.0193 - val_accuracy: 0.7917\n",
            "\n",
            "Epoch 00030: val_accuracy did not improve from 0.80093\n",
            "Epoch 31/100\n",
            "82/82 [==============================] - 58s 709ms/step - loss: 0.0206 - accuracy: 0.7763 - val_loss: 0.0221 - val_accuracy: 0.7685\n",
            "\n",
            "Epoch 00031: val_accuracy did not improve from 0.80093\n",
            "Epoch 32/100\n",
            "82/82 [==============================] - 58s 711ms/step - loss: 0.0201 - accuracy: 0.7892 - val_loss: 0.0174 - val_accuracy: 0.8333\n",
            "\n",
            "Epoch 00032: val_accuracy improved from 0.80093 to 0.83333, saving model to /content/drive/MyDrive/Traditional Food Classification/set 1/scratch_val_acc0.833.h5\n",
            "Epoch 33/100\n",
            "82/82 [==============================] - 57s 696ms/step - loss: 0.0218 - accuracy: 0.7739 - val_loss: 0.0200 - val_accuracy: 0.7731\n",
            "\n",
            "Epoch 00033: val_accuracy did not improve from 0.83333\n",
            "Epoch 34/100\n",
            "82/82 [==============================] - 58s 699ms/step - loss: 0.0191 - accuracy: 0.8014 - val_loss: 0.0218 - val_accuracy: 0.7685\n",
            "\n",
            "Epoch 00034: val_accuracy did not improve from 0.83333\n",
            "Epoch 35/100\n",
            "82/82 [==============================] - 58s 702ms/step - loss: 0.0194 - accuracy: 0.8048 - val_loss: 0.0191 - val_accuracy: 0.8009\n",
            "\n",
            "Epoch 00035: val_accuracy did not improve from 0.83333\n",
            "Epoch 36/100\n",
            "82/82 [==============================] - 58s 704ms/step - loss: 0.0189 - accuracy: 0.8063 - val_loss: 0.0245 - val_accuracy: 0.7731\n",
            "\n",
            "Epoch 00036: val_accuracy did not improve from 0.83333\n",
            "Epoch 37/100\n",
            "82/82 [==============================] - 57s 698ms/step - loss: 0.0170 - accuracy: 0.8249 - val_loss: 0.0212 - val_accuracy: 0.7731\n",
            "\n",
            "Epoch 00037: val_accuracy did not improve from 0.83333\n",
            "Epoch 38/100\n",
            "82/82 [==============================] - 57s 693ms/step - loss: 0.0191 - accuracy: 0.7975 - val_loss: 0.0195 - val_accuracy: 0.8148\n",
            "\n",
            "Epoch 00038: val_accuracy did not improve from 0.83333\n",
            "Epoch 39/100\n",
            "82/82 [==============================] - 57s 697ms/step - loss: 0.0158 - accuracy: 0.8442 - val_loss: 0.0198 - val_accuracy: 0.8009\n",
            "\n",
            "Epoch 00039: val_accuracy did not improve from 0.83333\n",
            "Epoch 40/100\n",
            "82/82 [==============================] - 57s 698ms/step - loss: 0.0157 - accuracy: 0.8358 - val_loss: 0.0173 - val_accuracy: 0.8056\n",
            "\n",
            "Epoch 00040: val_accuracy did not improve from 0.83333\n",
            "Epoch 41/100\n",
            "82/82 [==============================] - 57s 699ms/step - loss: 0.0180 - accuracy: 0.8121 - val_loss: 0.0186 - val_accuracy: 0.8056\n",
            "\n",
            "Epoch 00041: val_accuracy did not improve from 0.83333\n",
            "Epoch 42/100\n",
            "82/82 [==============================] - 57s 689ms/step - loss: 0.0152 - accuracy: 0.8499 - val_loss: 0.0188 - val_accuracy: 0.8148\n",
            "\n",
            "Epoch 00042: val_accuracy did not improve from 0.83333\n",
            "Epoch 43/100\n",
            "82/82 [==============================] - 57s 691ms/step - loss: 0.0147 - accuracy: 0.8509 - val_loss: 0.0222 - val_accuracy: 0.7685\n",
            "\n",
            "Epoch 00043: val_accuracy did not improve from 0.83333\n",
            "Epoch 44/100\n",
            "82/82 [==============================] - 57s 692ms/step - loss: 0.0156 - accuracy: 0.8384 - val_loss: 0.0206 - val_accuracy: 0.7824\n",
            "\n",
            "Epoch 00044: val_accuracy did not improve from 0.83333\n",
            "Epoch 45/100\n",
            "82/82 [==============================] - 57s 695ms/step - loss: 0.0145 - accuracy: 0.8573 - val_loss: 0.0183 - val_accuracy: 0.8102\n",
            "\n",
            "Epoch 00045: val_accuracy did not improve from 0.83333\n",
            "Epoch 46/100\n",
            "82/82 [==============================] - 57s 690ms/step - loss: 0.0134 - accuracy: 0.8623 - val_loss: 0.0210 - val_accuracy: 0.7824\n",
            "\n",
            "Epoch 00046: val_accuracy did not improve from 0.83333\n",
            "Epoch 47/100\n",
            "82/82 [==============================] - 57s 700ms/step - loss: 0.0145 - accuracy: 0.8511 - val_loss: 0.0186 - val_accuracy: 0.8056\n",
            "\n",
            "Epoch 00047: val_accuracy did not improve from 0.83333\n",
            "Epoch 48/100\n",
            "82/82 [==============================] - 57s 691ms/step - loss: 0.0135 - accuracy: 0.8600 - val_loss: 0.0168 - val_accuracy: 0.8241\n",
            "\n",
            "Epoch 00048: val_accuracy did not improve from 0.83333\n",
            "Epoch 49/100\n",
            "82/82 [==============================] - 57s 691ms/step - loss: 0.0137 - accuracy: 0.8574 - val_loss: 0.0203 - val_accuracy: 0.8056\n",
            "\n",
            "Epoch 00049: val_accuracy did not improve from 0.83333\n",
            "Epoch 50/100\n",
            "82/82 [==============================] - 57s 700ms/step - loss: 0.0137 - accuracy: 0.8646 - val_loss: 0.0170 - val_accuracy: 0.8194\n",
            "\n",
            "Epoch 00050: val_accuracy did not improve from 0.83333\n",
            "Epoch 51/100\n",
            "82/82 [==============================] - 57s 693ms/step - loss: 0.0116 - accuracy: 0.8858 - val_loss: 0.0163 - val_accuracy: 0.8380\n",
            "\n",
            "Epoch 00051: val_accuracy improved from 0.83333 to 0.83796, saving model to /content/drive/MyDrive/Traditional Food Classification/set 1/scratch_val_acc0.838.h5\n",
            "Epoch 52/100\n",
            "82/82 [==============================] - 57s 702ms/step - loss: 0.0126 - accuracy: 0.8673 - val_loss: 0.0177 - val_accuracy: 0.8102\n",
            "\n",
            "Epoch 00052: val_accuracy did not improve from 0.83796\n",
            "Epoch 53/100\n",
            "82/82 [==============================] - 58s 700ms/step - loss: 0.0118 - accuracy: 0.8828 - val_loss: 0.0201 - val_accuracy: 0.7917\n",
            "\n",
            "Epoch 00053: val_accuracy did not improve from 0.83796\n",
            "Epoch 54/100\n",
            "82/82 [==============================] - 59s 716ms/step - loss: 0.0128 - accuracy: 0.8740 - val_loss: 0.0181 - val_accuracy: 0.8102\n",
            "\n",
            "Epoch 00054: val_accuracy did not improve from 0.83796\n",
            "Epoch 55/100\n",
            "82/82 [==============================] - 59s 712ms/step - loss: 0.0113 - accuracy: 0.8888 - val_loss: 0.0182 - val_accuracy: 0.8056\n",
            "\n",
            "Epoch 00055: val_accuracy did not improve from 0.83796\n",
            "Epoch 56/100\n",
            "82/82 [==============================] - 59s 719ms/step - loss: 0.0110 - accuracy: 0.8904 - val_loss: 0.0160 - val_accuracy: 0.8287\n",
            "\n",
            "Epoch 00056: val_accuracy did not improve from 0.83796\n",
            "Epoch 57/100\n",
            "82/82 [==============================] - 59s 711ms/step - loss: 0.0110 - accuracy: 0.8857 - val_loss: 0.0191 - val_accuracy: 0.8194\n",
            "\n",
            "Epoch 00057: val_accuracy did not improve from 0.83796\n",
            "Epoch 58/100\n",
            "82/82 [==============================] - 59s 723ms/step - loss: 0.0098 - accuracy: 0.9015 - val_loss: 0.0182 - val_accuracy: 0.8194\n",
            "\n",
            "Epoch 00058: val_accuracy did not improve from 0.83796\n",
            "Epoch 59/100\n",
            "82/82 [==============================] - 59s 715ms/step - loss: 0.0110 - accuracy: 0.8914 - val_loss: 0.0183 - val_accuracy: 0.8056\n",
            "\n",
            "Epoch 00059: val_accuracy did not improve from 0.83796\n",
            "Epoch 60/100\n",
            "82/82 [==============================] - 58s 712ms/step - loss: 0.0093 - accuracy: 0.9034 - val_loss: 0.0179 - val_accuracy: 0.8102\n",
            "\n",
            "Epoch 00060: val_accuracy did not improve from 0.83796\n",
            "Epoch 61/100\n",
            "82/82 [==============================] - 61s 735ms/step - loss: 0.0088 - accuracy: 0.9060 - val_loss: 0.0181 - val_accuracy: 0.8102\n",
            "\n",
            "Epoch 00061: val_accuracy did not improve from 0.83796\n",
            "Epoch 62/100\n",
            "82/82 [==============================] - 59s 719ms/step - loss: 0.0091 - accuracy: 0.9108 - val_loss: 0.0166 - val_accuracy: 0.8241\n",
            "\n",
            "Epoch 00062: val_accuracy did not improve from 0.83796\n",
            "Epoch 63/100\n",
            "82/82 [==============================] - 59s 715ms/step - loss: 0.0084 - accuracy: 0.9176 - val_loss: 0.0182 - val_accuracy: 0.8241\n",
            "\n",
            "Epoch 00063: val_accuracy did not improve from 0.83796\n",
            "Epoch 64/100\n",
            "82/82 [==============================] - 59s 725ms/step - loss: 0.0088 - accuracy: 0.9134 - val_loss: 0.0168 - val_accuracy: 0.8102\n",
            "\n",
            "Epoch 00064: val_accuracy did not improve from 0.83796\n",
            "Epoch 65/100\n",
            "82/82 [==============================] - 59s 714ms/step - loss: 0.0091 - accuracy: 0.9102 - val_loss: 0.0169 - val_accuracy: 0.8380\n",
            "\n",
            "Epoch 00065: val_accuracy did not improve from 0.83796\n",
            "Epoch 66/100\n",
            "82/82 [==============================] - 59s 716ms/step - loss: 0.0098 - accuracy: 0.9055 - val_loss: 0.0172 - val_accuracy: 0.8241\n",
            "\n",
            "Epoch 00066: val_accuracy did not improve from 0.83796\n",
            "Epoch 67/100\n",
            "82/82 [==============================] - 58s 711ms/step - loss: 0.0091 - accuracy: 0.9104 - val_loss: 0.0177 - val_accuracy: 0.8194\n",
            "\n",
            "Epoch 00067: val_accuracy did not improve from 0.83796\n",
            "Epoch 68/100\n",
            "82/82 [==============================] - 59s 713ms/step - loss: 0.0079 - accuracy: 0.9262 - val_loss: 0.0173 - val_accuracy: 0.8241\n",
            "\n",
            "Epoch 00068: val_accuracy did not improve from 0.83796\n",
            "Epoch 69/100\n",
            "82/82 [==============================] - 58s 711ms/step - loss: 0.0090 - accuracy: 0.9059 - val_loss: 0.0162 - val_accuracy: 0.8333\n",
            "\n",
            "Epoch 00069: val_accuracy did not improve from 0.83796\n",
            "Epoch 70/100\n",
            "82/82 [==============================] - 58s 709ms/step - loss: 0.0071 - accuracy: 0.9304 - val_loss: 0.0167 - val_accuracy: 0.8148\n",
            "\n",
            "Epoch 00070: val_accuracy did not improve from 0.83796\n",
            "Epoch 71/100\n",
            "82/82 [==============================] - 58s 705ms/step - loss: 0.0065 - accuracy: 0.9381 - val_loss: 0.0207 - val_accuracy: 0.7917\n",
            "\n",
            "Epoch 00071: val_accuracy did not improve from 0.83796\n",
            "Epoch 72/100\n",
            "82/82 [==============================] - 58s 708ms/step - loss: 0.0082 - accuracy: 0.9189 - val_loss: 0.0206 - val_accuracy: 0.8009\n",
            "\n",
            "Epoch 00072: val_accuracy did not improve from 0.83796\n",
            "Epoch 73/100\n",
            "82/82 [==============================] - 58s 702ms/step - loss: 0.0075 - accuracy: 0.9289 - val_loss: 0.0182 - val_accuracy: 0.8287\n",
            "\n",
            "Epoch 00073: val_accuracy did not improve from 0.83796\n",
            "Epoch 74/100\n",
            "82/82 [==============================] - 57s 698ms/step - loss: 0.0071 - accuracy: 0.9307 - val_loss: 0.0145 - val_accuracy: 0.8565\n",
            "\n",
            "Epoch 00074: val_accuracy improved from 0.83796 to 0.85648, saving model to /content/drive/MyDrive/Traditional Food Classification/set 1/scratch_val_acc0.856.h5\n",
            "Epoch 75/100\n",
            "82/82 [==============================] - 57s 698ms/step - loss: 0.0059 - accuracy: 0.9453 - val_loss: 0.0180 - val_accuracy: 0.8194\n",
            "\n",
            "Epoch 00075: val_accuracy did not improve from 0.85648\n",
            "Epoch 76/100\n",
            "82/82 [==============================] - 57s 695ms/step - loss: 0.0060 - accuracy: 0.9395 - val_loss: 0.0171 - val_accuracy: 0.8287\n",
            "\n",
            "Epoch 00076: val_accuracy did not improve from 0.85648\n",
            "Epoch 77/100\n",
            "82/82 [==============================] - 57s 695ms/step - loss: 0.0064 - accuracy: 0.9349 - val_loss: 0.0193 - val_accuracy: 0.8056\n",
            "\n",
            "Epoch 00077: val_accuracy did not improve from 0.85648\n",
            "Epoch 78/100\n",
            "82/82 [==============================] - 57s 696ms/step - loss: 0.0072 - accuracy: 0.9304 - val_loss: 0.0164 - val_accuracy: 0.8333\n",
            "\n",
            "Epoch 00078: val_accuracy did not improve from 0.85648\n",
            "Epoch 79/100\n",
            "82/82 [==============================] - 57s 693ms/step - loss: 0.0070 - accuracy: 0.9298 - val_loss: 0.0168 - val_accuracy: 0.8241\n",
            "\n",
            "Epoch 00079: val_accuracy did not improve from 0.85648\n",
            "Epoch 80/100\n",
            "82/82 [==============================] - 57s 695ms/step - loss: 0.0069 - accuracy: 0.9334 - val_loss: 0.0178 - val_accuracy: 0.8102\n",
            "\n",
            "Epoch 00080: val_accuracy did not improve from 0.85648\n",
            "Epoch 81/100\n",
            "82/82 [==============================] - 58s 700ms/step - loss: 0.0070 - accuracy: 0.9307 - val_loss: 0.0152 - val_accuracy: 0.8426\n",
            "\n",
            "Epoch 00081: val_accuracy did not improve from 0.85648\n",
            "Epoch 82/100\n",
            "82/82 [==============================] - 57s 702ms/step - loss: 0.0050 - accuracy: 0.9503 - val_loss: 0.0165 - val_accuracy: 0.8287\n",
            "\n",
            "Epoch 00082: val_accuracy did not improve from 0.85648\n",
            "Epoch 83/100\n",
            "82/82 [==============================] - 59s 725ms/step - loss: 0.0059 - accuracy: 0.9466 - val_loss: 0.0171 - val_accuracy: 0.8333\n",
            "\n",
            "Epoch 00083: val_accuracy did not improve from 0.85648\n",
            "Epoch 84/100\n",
            "82/82 [==============================] - 59s 717ms/step - loss: 0.0059 - accuracy: 0.9395 - val_loss: 0.0163 - val_accuracy: 0.8380\n",
            "\n",
            "Epoch 00084: val_accuracy did not improve from 0.85648\n",
            "Epoch 85/100\n",
            "82/82 [==============================] - 59s 713ms/step - loss: 0.0045 - accuracy: 0.9558 - val_loss: 0.0168 - val_accuracy: 0.8241\n",
            "\n",
            "Epoch 00085: val_accuracy did not improve from 0.85648\n",
            "Epoch 86/100\n",
            "82/82 [==============================] - 57s 702ms/step - loss: 0.0048 - accuracy: 0.9532 - val_loss: 0.0191 - val_accuracy: 0.8102\n",
            "\n",
            "Epoch 00086: val_accuracy did not improve from 0.85648\n",
            "Epoch 87/100\n",
            "82/82 [==============================] - 57s 701ms/step - loss: 0.0050 - accuracy: 0.9510 - val_loss: 0.0187 - val_accuracy: 0.8102\n",
            "\n",
            "Epoch 00087: val_accuracy did not improve from 0.85648\n",
            "Epoch 88/100\n",
            "82/82 [==============================] - 58s 702ms/step - loss: 0.0041 - accuracy: 0.9622 - val_loss: 0.0172 - val_accuracy: 0.8194\n",
            "\n",
            "Epoch 00088: val_accuracy did not improve from 0.85648\n",
            "Epoch 89/100\n",
            "82/82 [==============================] - 57s 699ms/step - loss: 0.0051 - accuracy: 0.9483 - val_loss: 0.0173 - val_accuracy: 0.8287\n",
            "\n",
            "Epoch 00089: val_accuracy did not improve from 0.85648\n",
            "Epoch 90/100\n",
            "82/82 [==============================] - 58s 705ms/step - loss: 0.0053 - accuracy: 0.9458 - val_loss: 0.0179 - val_accuracy: 0.8333\n",
            "\n",
            "Epoch 00090: val_accuracy did not improve from 0.85648\n",
            "Epoch 91/100\n",
            "82/82 [==============================] - 58s 715ms/step - loss: 0.0044 - accuracy: 0.9590 - val_loss: 0.0188 - val_accuracy: 0.8241\n",
            "\n",
            "Epoch 00091: val_accuracy did not improve from 0.85648\n",
            "Epoch 92/100\n",
            "82/82 [==============================] - 58s 709ms/step - loss: 0.0047 - accuracy: 0.9587 - val_loss: 0.0180 - val_accuracy: 0.8333\n",
            "\n",
            "Epoch 00092: val_accuracy did not improve from 0.85648\n",
            "Epoch 93/100\n",
            "82/82 [==============================] - 58s 704ms/step - loss: 0.0037 - accuracy: 0.9657 - val_loss: 0.0183 - val_accuracy: 0.8241\n",
            "\n",
            "Epoch 00093: val_accuracy did not improve from 0.85648\n",
            "Epoch 94/100\n",
            "82/82 [==============================] - 57s 697ms/step - loss: 0.0053 - accuracy: 0.9485 - val_loss: 0.0154 - val_accuracy: 0.8519\n",
            "\n",
            "Epoch 00094: val_accuracy did not improve from 0.85648\n",
            "Epoch 95/100\n",
            "82/82 [==============================] - 58s 701ms/step - loss: 0.0038 - accuracy: 0.9655 - val_loss: 0.0160 - val_accuracy: 0.8380\n",
            "\n",
            "Epoch 00095: val_accuracy did not improve from 0.85648\n",
            "Epoch 96/100\n",
            "82/82 [==============================] - 57s 691ms/step - loss: 0.0047 - accuracy: 0.9557 - val_loss: 0.0170 - val_accuracy: 0.8194\n",
            "\n",
            "Epoch 00096: val_accuracy did not improve from 0.85648\n",
            "Epoch 97/100\n",
            "82/82 [==============================] - 57s 699ms/step - loss: 0.0040 - accuracy: 0.9628 - val_loss: 0.0173 - val_accuracy: 0.8287\n",
            "\n",
            "Epoch 00097: val_accuracy did not improve from 0.85648\n",
            "Epoch 98/100\n",
            "82/82 [==============================] - 57s 700ms/step - loss: 0.0037 - accuracy: 0.9631 - val_loss: 0.0154 - val_accuracy: 0.8611\n",
            "\n",
            "Epoch 00098: val_accuracy improved from 0.85648 to 0.86111, saving model to /content/drive/MyDrive/Traditional Food Classification/set 1/scratch_val_acc0.861.h5\n",
            "Epoch 99/100\n",
            "82/82 [==============================] - 58s 704ms/step - loss: 0.0035 - accuracy: 0.9641 - val_loss: 0.0216 - val_accuracy: 0.7870\n",
            "\n",
            "Epoch 00099: val_accuracy did not improve from 0.86111\n",
            "Epoch 100/100\n",
            "82/82 [==============================] - 58s 701ms/step - loss: 0.0048 - accuracy: 0.9533 - val_loss: 0.0164 - val_accuracy: 0.8333\n",
            "\n",
            "Epoch 00100: val_accuracy did not improve from 0.86111\n"
          ],
          "name": "stdout"
        }
      ]
    },
    {
      "cell_type": "markdown",
      "metadata": {
        "id": "4EPvG11Mmiss"
      },
      "source": [
        "### Predict labels of test data"
      ]
    },
    {
      "cell_type": "code",
      "metadata": {
        "colab": {
          "base_uri": "https://localhost:8080/"
        },
        "id": "_mLUn13Yls1k",
        "outputId": "5cadd400-28da-4842-fbe3-624bf51f0268"
      },
      "source": [
        "# y_true = np.array([np.where(label[0][i] == 1)[0][0] for i in range(216)])\n",
        "# y_true.shape\n",
        "y_true=valid.labels\n",
        "y_true"
      ],
      "execution_count": null,
      "outputs": [
        {
          "output_type": "execute_result",
          "data": {
            "text/plain": [
              "array([0, 0, 0, 0, 0, 0, 0, 0, 0, 0, 0, 0, 0, 0, 0, 0, 0, 0, 0, 0, 0, 1,\n",
              "       1, 1, 1, 1, 1, 1, 1, 1, 1, 1, 1, 1, 1, 1, 1, 1, 1, 2, 2, 2, 2, 2,\n",
              "       2, 2, 2, 2, 2, 2, 2, 2, 2, 2, 2, 2, 2, 2, 2, 2, 2, 2, 2, 2, 2, 2,\n",
              "       2, 2, 2, 2, 2, 2, 2, 2, 3, 3, 3, 3, 3, 3, 3, 3, 3, 3, 3, 3, 3, 3,\n",
              "       3, 3, 3, 3, 3, 3, 3, 3, 3, 3, 3, 3, 3, 3, 3, 3, 3, 3, 3, 3, 3, 3,\n",
              "       3, 3, 3, 3, 3, 3, 3, 4, 4, 4, 4, 4, 4, 4, 4, 4, 4, 4, 4, 4, 4, 4,\n",
              "       4, 4, 4, 4, 4, 4, 4, 4, 4, 4, 5, 5, 5, 5, 5, 5, 5, 5, 5, 5, 5, 5,\n",
              "       5, 5, 5, 5, 5, 5, 5, 5, 5, 5, 5, 5, 5, 5, 5, 5, 5, 5, 5, 5, 5, 5,\n",
              "       5, 5, 5, 5, 6, 6, 6, 6, 6, 6, 6, 6, 6, 6, 6, 6, 6, 6, 6, 6, 6, 6,\n",
              "       6, 6, 6, 6, 6, 6, 6, 6, 6, 6, 6, 6, 6, 6, 6, 6, 6, 6], dtype=int32)"
            ]
          },
          "metadata": {
            "tags": []
          },
          "execution_count": 13
        }
      ]
    },
    {
      "cell_type": "code",
      "metadata": {
        "colab": {
          "base_uri": "https://localhost:8080/"
        },
        "id": "GTfrsiDYls1m",
        "outputId": "cc488fcc-594d-4a88-f506-ccff12fb55fb"
      },
      "source": [
        "from sklearn.metrics import classification_report, confusion_matrix\n",
        "\n",
        "Y_pred = loaded_model.predict_generator(valid, 6)\n",
        "y_pred = np.argmax(Y_pred, axis=1)"
      ],
      "execution_count": null,
      "outputs": [
        {
          "output_type": "stream",
          "text": [
            "/usr/local/lib/python3.7/dist-packages/tensorflow/python/keras/engine/training.py:1905: UserWarning: `Model.predict_generator` is deprecated and will be removed in a future version. Please use `Model.predict`, which supports generators.\n",
            "  warnings.warn('`Model.predict_generator` is deprecated and '\n"
          ],
          "name": "stderr"
        }
      ]
    },
    {
      "cell_type": "markdown",
      "metadata": {
        "id": "mQdi4PvKmptO"
      },
      "source": [
        "### Confusion Matrix"
      ]
    },
    {
      "cell_type": "code",
      "metadata": {
        "colab": {
          "base_uri": "https://localhost:8080/"
        },
        "id": "t5uBl4YGls1n",
        "outputId": "81633790-076c-4976-dc7d-66b76885ed6c"
      },
      "source": [
        "print('Confusion Matrix')\n",
        "conf_mat=confusion_matrix(y_true, y_pred)\n",
        "print(conf_mat)"
      ],
      "execution_count": null,
      "outputs": [
        {
          "output_type": "stream",
          "text": [
            "Confusion Matrix\n",
            "[[21  0  0  0  0  0  0]\n",
            " [ 0 12  2  1  0  3  0]\n",
            " [ 0  0 30  4  1  0  0]\n",
            " [ 0  0  2 40  1  0  0]\n",
            " [ 1  0  0  1 22  1  0]\n",
            " [ 0  1  5  3  0 29  0]\n",
            " [ 0  0  1  0  0  3 32]]\n"
          ],
          "name": "stdout"
        }
      ]
    },
    {
      "cell_type": "code",
      "metadata": {
        "id": "yPjefvsAmepo"
      },
      "source": [
        "labels=['Khichuri','Biriyani','Panta Ilish','Dim_Vuna','Kala_Vuna',\n",
        "        'Fuchka','Rosogolla']"
      ],
      "execution_count": null,
      "outputs": []
    },
    {
      "cell_type": "code",
      "metadata": {
        "id": "jiOHHIk1lSyx"
      },
      "source": [
        "import numpy as np\n",
        "conf_mat= np.array([[40,2,0,1,0,0,0],\n",
        "                    [4,30,0,1,0,0,0],\n",
        "                    [1,2,12,0,0,3,0],\n",
        "                    [1,0,0,22,1,1,0],\n",
        "                    [0,0,0,0,21,0,0],\n",
        "                    [3,5,1,0,0,29,0],\n",
        "                    [0,1,0,0,0,3,32]\n",
        "                    ])"
      ],
      "execution_count": null,
      "outputs": []
    },
    {
      "cell_type": "code",
      "metadata": {
        "colab": {
          "base_uri": "https://localhost:8080/",
          "height": 410
        },
        "id": "fVGE_rVZls1o",
        "outputId": "c6d488b3-aa29-4eab-9ec1-d3c6c7cd4e51"
      },
      "source": [
        "import numpy as np\n",
        "import matplotlib.pyplot as plt\n",
        "import seaborn as sns\n",
        "\n",
        "def make_confusion_matrix(cf,group_names=None,categories='auto', count=True,percent=True,cbar=True,xyticks=True,\n",
        "                          xyplotlabels=True,sum_stats=True,figsize=None,cmap='Blues', accuracy=True,title=None):\n",
        "\n",
        "    blanks = ['' for i in range(cf.size)]\n",
        "\n",
        "    if group_names and len(group_names)==cf.size:\n",
        "        group_labels = [\"{}\\n\".format(value) for value in group_names]\n",
        "    else:\n",
        "        group_labels = blanks\n",
        "    if count:\n",
        "        group_counts = [\"{0:0.0f}\\n\".format(value) for value in cf.flatten()]\n",
        "    else:\n",
        "        group_counts = blanks\n",
        "    if percent:\n",
        "        # group_percentages = [\"{0:.2%}\".format(value) for value in cf.flatten()/np.sum(cf)]\n",
        "        # group_percentages = [\"{0:.2%}\".format(value) for value in np.array([cf/np.sum(cf) for cf in cf]).flatten()]\n",
        "        group_percentages = [\"{0:.2%}\".format(value) for value in np.array([cnf/np.sum(cnf) for cnf in cf]).flatten()]\n",
        "    else:\n",
        "        group_percentages = blanks\n",
        "\n",
        "    box_labels = [f\"{v1}{v2}{v3}\".strip() for v1, v2, v3 in zip(group_labels,group_counts,group_percentages)]\n",
        "    box_labels = np.asarray(box_labels).reshape(cf.shape[0],cf.shape[1])\n",
        "    if accuracy==True:\n",
        "      if sum_stats:\n",
        "          accuracy  = np.trace(cf) / float(np.sum(cf))\n",
        "\n",
        "          if len(cf)==2:\n",
        "              precision = cf[1,1] / sum(cf[:,1])\n",
        "              recall    = cf[1,1] / sum(cf[1,:])\n",
        "              f1_score  = 2*precision*recall / (precision + recall)\n",
        "              stats_text = \"\\n\\nAccuracy={:0.3f}\\nPrecision={:0.3f}\\nRecall={:0.3f}\\nF1 Score={:0.3f}\".format(\n",
        "                  accuracy,precision,recall,f1_score)\n",
        "          else:\n",
        "              stats_text = \"\\n\\nAccuracy={:0.3f}\".format(accuracy)\n",
        "    else:\n",
        "          stats_text = \"\"\n",
        "\n",
        "    if figsize==None:\n",
        "        figsize = plt.rcParams.get('figure.figsize')\n",
        "\n",
        "    if xyticks==False:\n",
        "        categories=False\n",
        "\n",
        "    plt.figure(figsize=figsize)\n",
        "    sns.heatmap(cf,annot=box_labels,fmt=\"\",cmap=cmap,cbar=cbar,annot_kws={'size':14},xticklabels=categories,yticklabels=categories)\n",
        "\n",
        "    if xyplotlabels:\n",
        "        plt.ylabel('True label')\n",
        "        plt.yticks(rotation=0)\n",
        "        plt.xlabel('Predicted label' + stats_text)\n",
        "        plt.xticks(rotation=25)\n",
        "        plt.savefig('conf.jpeg',dpi=600)\n",
        "    else:\n",
        "        plt.xlabel(stats_text)\n",
        "        plt.yticks(rotation=0)\n",
        "        plt.xticks(rotation=25)\n",
        "        plt.savefig('conf.jpeg',dpi=600)\n",
        "    if title:\n",
        "        plt.title(title)\n",
        "        plt.yticks(rotation=0)\n",
        "        plt.xticks(rotation=25)\n",
        "        plt.savefig('conf.jpeg',dpi=600)\n",
        "\n",
        "make_confusion_matrix(conf_mat, figsize=(8,6),percent=True,count=True,accuracy=False,\n",
        "                      categories=labels,cbar=False,cmap='YlOrBr')\n"
      ],
      "execution_count": null,
      "outputs": [
        {
          "output_type": "display_data",
          "data": {
            "image/png": "[encoded data removed]",
            "text/plain": [
              "<Figure size 576x432 with 1 Axes>"
            ]
          },
          "metadata": {
            "tags": [],
            "needs_background": "light"
          }
        }
      ]
    },
    {
      "cell_type": "markdown",
      "metadata": {
        "id": "fQ995tjsm2M1"
      },
      "source": [
        "### Class-wise evaluation metrics"
      ]
    },
    {
      "cell_type": "code",
      "metadata": {
        "colab": {
          "base_uri": "https://localhost:8080/"
        },
        "id": "epA4nzybm0Hf",
        "outputId": "51e5dcca-fc53-41a6-a6c8-cabc18c4ecca"
      },
      "source": [
        "print('Classification Report')\n",
        "print(classification_report(y_true, y_pred, \n",
        "      target_names=['Kala_Vuna','Panta Ilish','Biriyani','Khichuri','Dim_Vuna','Fuchka','Rosogolla']))"
      ],
      "execution_count": null,
      "outputs": [
        {
          "output_type": "stream",
          "text": [
            "Classification Report\n",
            "              precision    recall  f1-score   support\n",
            "\n",
            "   Kala_Vuna       0.95      1.00      0.98        21\n",
            " Panta Ilish       0.92      0.67      0.77        18\n",
            "    Biriyani       0.75      0.86      0.80        35\n",
            "    Khichuri       0.82      0.93      0.87        43\n",
            "    Dim_Vuna       0.92      0.88      0.90        25\n",
            "      Fuchka       0.81      0.76      0.78        38\n",
            "   Rosogolla       1.00      0.89      0.94        36\n",
            "\n",
            "    accuracy                           0.86       216\n",
            "   macro avg       0.88      0.86      0.86       216\n",
            "weighted avg       0.87      0.86      0.86       216\n",
            "\n"
          ],
          "name": "stdout"
        }
      ]
    },
    {
      "cell_type": "markdown",
      "metadata": {
        "id": "A6ClJ3EVlu3c"
      },
      "source": [
        "# Others"
      ]
    },
    {
      "cell_type": "code",
      "metadata": {
        "colab": {
          "base_uri": "https://localhost:8080/"
        },
        "id": "XXu2M20OTLUk",
        "outputId": "f1165587-7463-4166-d00e-f3fa16fcdb24"
      },
      "source": [
        "history = model.fit(train,validation_data=valid,shuffle=True,epochs=100,verbose=1,checkpoint=checkpoint)"
      ],
      "execution_count": null,
      "outputs": [
        {
          "output_type": "stream",
          "text": [
            "Epoch 1/100\n",
            "82/82 [==============================] - 62s 753ms/step - loss: 0.0555 - accuracy: 0.1836 - val_loss: 0.0513 - val_accuracy: 0.3657\n",
            "Epoch 2/100\n",
            "82/82 [==============================] - 61s 739ms/step - loss: 0.0507 - accuracy: 0.3162 - val_loss: 0.0455 - val_accuracy: 0.3333\n",
            "Epoch 3/100\n",
            "82/82 [==============================] - 61s 742ms/step - loss: 0.0467 - accuracy: 0.3950 - val_loss: 0.0428 - val_accuracy: 0.4722\n",
            "Epoch 4/100\n",
            "82/82 [==============================] - 60s 734ms/step - loss: 0.0446 - accuracy: 0.4410 - val_loss: 0.0341 - val_accuracy: 0.5972\n",
            "Epoch 5/100\n",
            "82/82 [==============================] - 59s 727ms/step - loss: 0.0405 - accuracy: 0.4953 - val_loss: 0.0344 - val_accuracy: 0.5972\n",
            "Epoch 6/100\n",
            "82/82 [==============================] - 59s 727ms/step - loss: 0.0407 - accuracy: 0.5146 - val_loss: 0.0338 - val_accuracy: 0.5972\n",
            "Epoch 7/100\n",
            "82/82 [==============================] - 59s 723ms/step - loss: 0.0382 - accuracy: 0.5416 - val_loss: 0.0322 - val_accuracy: 0.6065\n",
            "Epoch 8/100\n",
            "82/82 [==============================] - 60s 729ms/step - loss: 0.0371 - accuracy: 0.5665 - val_loss: 0.0293 - val_accuracy: 0.6528\n",
            "Epoch 9/100\n",
            "82/82 [==============================] - 59s 721ms/step - loss: 0.0362 - accuracy: 0.5845 - val_loss: 0.0296 - val_accuracy: 0.6667\n",
            "Epoch 10/100\n",
            "82/82 [==============================] - 59s 721ms/step - loss: 0.0360 - accuracy: 0.5834 - val_loss: 0.0293 - val_accuracy: 0.6574\n",
            "Epoch 11/100\n",
            "82/82 [==============================] - 58s 713ms/step - loss: 0.0350 - accuracy: 0.5872 - val_loss: 0.0289 - val_accuracy: 0.6806\n",
            "Epoch 12/100\n",
            "82/82 [==============================] - 59s 726ms/step - loss: 0.0339 - accuracy: 0.6187 - val_loss: 0.0270 - val_accuracy: 0.6944\n",
            "Epoch 13/100\n",
            "82/82 [==============================] - 60s 731ms/step - loss: 0.0338 - accuracy: 0.6011 - val_loss: 0.0269 - val_accuracy: 0.6806\n",
            "Epoch 14/100\n",
            "82/82 [==============================] - 59s 720ms/step - loss: 0.0311 - accuracy: 0.6549 - val_loss: 0.0257 - val_accuracy: 0.7176\n",
            "Epoch 15/100\n",
            "82/82 [==============================] - 59s 717ms/step - loss: 0.0313 - accuracy: 0.6508 - val_loss: 0.0245 - val_accuracy: 0.7269\n",
            "Epoch 16/100\n",
            "82/82 [==============================] - 58s 712ms/step - loss: 0.0310 - accuracy: 0.6522 - val_loss: 0.0253 - val_accuracy: 0.6991\n",
            "Epoch 17/100\n",
            "82/82 [==============================] - 59s 713ms/step - loss: 0.0306 - accuracy: 0.6509 - val_loss: 0.0238 - val_accuracy: 0.7361\n",
            "Epoch 18/100\n",
            "82/82 [==============================] - 59s 714ms/step - loss: 0.0297 - accuracy: 0.6643 - val_loss: 0.0269 - val_accuracy: 0.7222\n",
            "Epoch 19/100\n",
            "82/82 [==============================] - 59s 719ms/step - loss: 0.0286 - accuracy: 0.6882 - val_loss: 0.0216 - val_accuracy: 0.7778\n",
            "Epoch 20/100\n",
            "82/82 [==============================] - 59s 720ms/step - loss: 0.0271 - accuracy: 0.7031 - val_loss: 0.0227 - val_accuracy: 0.7454\n",
            "Epoch 21/100\n",
            "82/82 [==============================] - 61s 749ms/step - loss: 0.0267 - accuracy: 0.7040 - val_loss: 0.0292 - val_accuracy: 0.6667\n",
            "Epoch 22/100\n",
            "82/82 [==============================] - 60s 738ms/step - loss: 0.0258 - accuracy: 0.7244 - val_loss: 0.0204 - val_accuracy: 0.7731\n",
            "Epoch 23/100\n",
            "82/82 [==============================] - 60s 735ms/step - loss: 0.0259 - accuracy: 0.7137 - val_loss: 0.0207 - val_accuracy: 0.7731\n",
            "Epoch 24/100\n",
            "82/82 [==============================] - 60s 738ms/step - loss: 0.0247 - accuracy: 0.7315 - val_loss: 0.0253 - val_accuracy: 0.7315\n",
            "Epoch 25/100\n",
            "82/82 [==============================] - 59s 727ms/step - loss: 0.0245 - accuracy: 0.7372 - val_loss: 0.0226 - val_accuracy: 0.7454\n",
            "Epoch 26/100\n",
            "82/82 [==============================] - 60s 730ms/step - loss: 0.0245 - accuracy: 0.7249 - val_loss: 0.0208 - val_accuracy: 0.7870\n",
            "Epoch 27/100\n",
            "82/82 [==============================] - 60s 737ms/step - loss: 0.0234 - accuracy: 0.7545 - val_loss: 0.0201 - val_accuracy: 0.7824\n",
            "Epoch 28/100\n",
            "82/82 [==============================] - 60s 725ms/step - loss: 0.0223 - accuracy: 0.7615 - val_loss: 0.0197 - val_accuracy: 0.7963\n",
            "Epoch 29/100\n",
            "82/82 [==============================] - 59s 717ms/step - loss: 0.0214 - accuracy: 0.7777 - val_loss: 0.0230 - val_accuracy: 0.7407\n",
            "Epoch 30/100\n",
            "82/82 [==============================] - 59s 719ms/step - loss: 0.0225 - accuracy: 0.7708 - val_loss: 0.0215 - val_accuracy: 0.7500\n",
            "Epoch 31/100\n",
            "82/82 [==============================] - 58s 707ms/step - loss: 0.0206 - accuracy: 0.7870 - val_loss: 0.0183 - val_accuracy: 0.8009\n",
            "Epoch 32/100\n",
            "82/82 [==============================] - 60s 729ms/step - loss: 0.0215 - accuracy: 0.7744 - val_loss: 0.0190 - val_accuracy: 0.8148\n",
            "Epoch 33/100\n",
            "82/82 [==============================] - 60s 737ms/step - loss: 0.0194 - accuracy: 0.8020 - val_loss: 0.0197 - val_accuracy: 0.7917\n",
            "Epoch 34/100\n",
            "82/82 [==============================] - 59s 722ms/step - loss: 0.0196 - accuracy: 0.7899 - val_loss: 0.0177 - val_accuracy: 0.8102\n",
            "Epoch 35/100\n",
            "82/82 [==============================] - 60s 725ms/step - loss: 0.0196 - accuracy: 0.7899 - val_loss: 0.0181 - val_accuracy: 0.8194\n",
            "Epoch 36/100\n",
            "82/82 [==============================] - 61s 740ms/step - loss: 0.0184 - accuracy: 0.8058 - val_loss: 0.0189 - val_accuracy: 0.7824\n",
            "Epoch 37/100\n",
            "82/82 [==============================] - 59s 724ms/step - loss: 0.0187 - accuracy: 0.8108 - val_loss: 0.0183 - val_accuracy: 0.8102\n",
            "Epoch 38/100\n",
            "82/82 [==============================] - 61s 738ms/step - loss: 0.0175 - accuracy: 0.8192 - val_loss: 0.0175 - val_accuracy: 0.8102\n",
            "Epoch 39/100\n",
            "82/82 [==============================] - 60s 733ms/step - loss: 0.0188 - accuracy: 0.8055 - val_loss: 0.0183 - val_accuracy: 0.8102\n",
            "Epoch 40/100\n",
            "82/82 [==============================] - 61s 736ms/step - loss: 0.0171 - accuracy: 0.8260 - val_loss: 0.0185 - val_accuracy: 0.8009\n",
            "Epoch 41/100\n",
            "82/82 [==============================] - 59s 719ms/step - loss: 0.0162 - accuracy: 0.8320 - val_loss: 0.0178 - val_accuracy: 0.8241\n",
            "Epoch 42/100\n",
            "82/82 [==============================] - 58s 710ms/step - loss: 0.0156 - accuracy: 0.8368 - val_loss: 0.0191 - val_accuracy: 0.7963\n",
            "Epoch 43/100\n",
            "82/82 [==============================] - 59s 718ms/step - loss: 0.0170 - accuracy: 0.8213 - val_loss: 0.0208 - val_accuracy: 0.7824\n",
            "Epoch 44/100\n",
            "82/82 [==============================] - 59s 719ms/step - loss: 0.0169 - accuracy: 0.8265 - val_loss: 0.0191 - val_accuracy: 0.7824\n",
            "Epoch 45/100\n",
            "82/82 [==============================] - 59s 721ms/step - loss: 0.0152 - accuracy: 0.8476 - val_loss: 0.0216 - val_accuracy: 0.7870\n",
            "Epoch 46/100\n",
            "82/82 [==============================] - 61s 736ms/step - loss: 0.0150 - accuracy: 0.8478 - val_loss: 0.0167 - val_accuracy: 0.8426\n",
            "Epoch 47/100\n",
            "82/82 [==============================] - 59s 721ms/step - loss: 0.0140 - accuracy: 0.8561 - val_loss: 0.0186 - val_accuracy: 0.8102\n",
            "Epoch 48/100\n",
            "82/82 [==============================] - 59s 724ms/step - loss: 0.0150 - accuracy: 0.8495 - val_loss: 0.0199 - val_accuracy: 0.8009\n",
            "Epoch 49/100\n",
            "82/82 [==============================] - 59s 726ms/step - loss: 0.0150 - accuracy: 0.8412 - val_loss: 0.0178 - val_accuracy: 0.8241\n",
            "Epoch 50/100\n",
            "82/82 [==============================] - 59s 722ms/step - loss: 0.0138 - accuracy: 0.8570 - val_loss: 0.0167 - val_accuracy: 0.8102\n",
            "Epoch 51/100\n",
            "82/82 [==============================] - 59s 719ms/step - loss: 0.0121 - accuracy: 0.8762 - val_loss: 0.0145 - val_accuracy: 0.8611\n",
            "Epoch 52/100\n",
            "82/82 [==============================] - 58s 706ms/step - loss: 0.0122 - accuracy: 0.8804 - val_loss: 0.0224 - val_accuracy: 0.7685\n",
            "Epoch 53/100\n",
            "82/82 [==============================] - 58s 709ms/step - loss: 0.0134 - accuracy: 0.8553 - val_loss: 0.0170 - val_accuracy: 0.8380\n",
            "Epoch 54/100\n",
            "82/82 [==============================] - 59s 722ms/step - loss: 0.0120 - accuracy: 0.8832 - val_loss: 0.0170 - val_accuracy: 0.8380\n",
            "Epoch 55/100\n",
            "82/82 [==============================] - 59s 719ms/step - loss: 0.0122 - accuracy: 0.8831 - val_loss: 0.0180 - val_accuracy: 0.8056\n",
            "Epoch 56/100\n",
            "82/82 [==============================] - 59s 722ms/step - loss: 0.0119 - accuracy: 0.8723 - val_loss: 0.0182 - val_accuracy: 0.8102\n",
            "Epoch 57/100\n",
            "82/82 [==============================] - 57s 701ms/step - loss: 0.0116 - accuracy: 0.8799 - val_loss: 0.0175 - val_accuracy: 0.8287\n",
            "Epoch 58/100\n",
            "82/82 [==============================] - 57s 694ms/step - loss: 0.0111 - accuracy: 0.8964 - val_loss: 0.0155 - val_accuracy: 0.8380\n",
            "Epoch 59/100\n",
            "82/82 [==============================] - 57s 690ms/step - loss: 0.0118 - accuracy: 0.8792 - val_loss: 0.0179 - val_accuracy: 0.8102\n",
            "Epoch 60/100\n",
            "82/82 [==============================] - 57s 687ms/step - loss: 0.0109 - accuracy: 0.8923 - val_loss: 0.0170 - val_accuracy: 0.8148\n",
            "Epoch 61/100\n",
            "82/82 [==============================] - 60s 733ms/step - loss: 0.0114 - accuracy: 0.8866 - val_loss: 0.0169 - val_accuracy: 0.8380\n",
            "Epoch 62/100\n",
            "82/82 [==============================] - 61s 747ms/step - loss: 0.0107 - accuracy: 0.8926 - val_loss: 0.0205 - val_accuracy: 0.7963\n",
            "Epoch 63/100\n",
            "82/82 [==============================] - 62s 755ms/step - loss: 0.0098 - accuracy: 0.9059 - val_loss: 0.0185 - val_accuracy: 0.8194\n",
            "Epoch 64/100\n",
            "82/82 [==============================] - 61s 741ms/step - loss: 0.0104 - accuracy: 0.8951 - val_loss: 0.0162 - val_accuracy: 0.8380\n",
            "Epoch 65/100\n",
            "82/82 [==============================] - 60s 737ms/step - loss: 0.0107 - accuracy: 0.8961 - val_loss: 0.0175 - val_accuracy: 0.8102\n",
            "Epoch 66/100\n",
            "82/82 [==============================] - 60s 731ms/step - loss: 0.0089 - accuracy: 0.9106 - val_loss: 0.0186 - val_accuracy: 0.8148\n",
            "Epoch 67/100\n",
            "82/82 [==============================] - 60s 732ms/step - loss: 0.0097 - accuracy: 0.9080 - val_loss: 0.0174 - val_accuracy: 0.8287\n",
            "Epoch 68/100\n",
            "82/82 [==============================] - 61s 746ms/step - loss: 0.0086 - accuracy: 0.9151 - val_loss: 0.0165 - val_accuracy: 0.8287\n",
            "Epoch 69/100\n",
            "82/82 [==============================] - 61s 743ms/step - loss: 0.0100 - accuracy: 0.8966 - val_loss: 0.0150 - val_accuracy: 0.8472\n",
            "Epoch 70/100\n",
            "82/82 [==============================] - 60s 736ms/step - loss: 0.0087 - accuracy: 0.9160 - val_loss: 0.0173 - val_accuracy: 0.8241\n",
            "Epoch 71/100\n",
            "82/82 [==============================] - 62s 755ms/step - loss: 0.0078 - accuracy: 0.9250 - val_loss: 0.0170 - val_accuracy: 0.8194\n",
            "Epoch 72/100\n",
            "82/82 [==============================] - 63s 762ms/step - loss: 0.0083 - accuracy: 0.9178 - val_loss: 0.0170 - val_accuracy: 0.8287\n",
            "Epoch 73/100\n",
            "82/82 [==============================] - 62s 758ms/step - loss: 0.0105 - accuracy: 0.8950 - val_loss: 0.0161 - val_accuracy: 0.8472\n",
            "Epoch 74/100\n",
            "82/82 [==============================] - 63s 774ms/step - loss: 0.0103 - accuracy: 0.8919 - val_loss: 0.0180 - val_accuracy: 0.8241\n",
            "Epoch 75/100\n",
            "82/82 [==============================] - 62s 760ms/step - loss: 0.0074 - accuracy: 0.9268 - val_loss: 0.0175 - val_accuracy: 0.8426\n",
            "Epoch 76/100\n",
            "82/82 [==============================] - 61s 743ms/step - loss: 0.0081 - accuracy: 0.9238 - val_loss: 0.0176 - val_accuracy: 0.8333\n",
            "Epoch 77/100\n",
            "82/82 [==============================] - 61s 748ms/step - loss: 0.0070 - accuracy: 0.9333 - val_loss: 0.0161 - val_accuracy: 0.8426\n",
            "Epoch 78/100\n",
            "82/82 [==============================] - 60s 728ms/step - loss: 0.0076 - accuracy: 0.9248 - val_loss: 0.0187 - val_accuracy: 0.8102\n",
            "Epoch 79/100\n",
            "82/82 [==============================] - 59s 726ms/step - loss: 0.0066 - accuracy: 0.9317 - val_loss: 0.0170 - val_accuracy: 0.8380\n",
            "Epoch 80/100\n",
            "82/82 [==============================] - 60s 739ms/step - loss: 0.0061 - accuracy: 0.9426 - val_loss: 0.0176 - val_accuracy: 0.8380\n",
            "Epoch 81/100\n",
            "82/82 [==============================] - 61s 746ms/step - loss: 0.0071 - accuracy: 0.9300 - val_loss: 0.0168 - val_accuracy: 0.8426\n",
            "Epoch 82/100\n",
            "82/82 [==============================] - 61s 741ms/step - loss: 0.0067 - accuracy: 0.9339 - val_loss: 0.0194 - val_accuracy: 0.8056\n",
            "Epoch 83/100\n",
            "82/82 [==============================] - 60s 731ms/step - loss: 0.0071 - accuracy: 0.9287 - val_loss: 0.0185 - val_accuracy: 0.8102\n",
            "Epoch 84/100\n",
            "82/82 [==============================] - 60s 734ms/step - loss: 0.0060 - accuracy: 0.9411 - val_loss: 0.0167 - val_accuracy: 0.8472\n",
            "Epoch 85/100\n",
            "82/82 [==============================] - 60s 739ms/step - loss: 0.0068 - accuracy: 0.9315 - val_loss: 0.0182 - val_accuracy: 0.8241\n",
            "Epoch 86/100\n",
            "82/82 [==============================] - 60s 731ms/step - loss: 0.0065 - accuracy: 0.9345 - val_loss: 0.0192 - val_accuracy: 0.8148\n",
            "Epoch 87/100\n",
            "82/82 [==============================] - 60s 729ms/step - loss: 0.0061 - accuracy: 0.9412 - val_loss: 0.0236 - val_accuracy: 0.7778\n",
            "Epoch 88/100\n",
            "82/82 [==============================] - 59s 712ms/step - loss: 0.0066 - accuracy: 0.9334 - val_loss: 0.0226 - val_accuracy: 0.7778\n",
            "Epoch 89/100\n",
            "82/82 [==============================] - 58s 713ms/step - loss: 0.0078 - accuracy: 0.9205 - val_loss: 0.0196 - val_accuracy: 0.8102\n",
            "Epoch 90/100\n",
            "82/82 [==============================] - 59s 717ms/step - loss: 0.0066 - accuracy: 0.9339 - val_loss: 0.0174 - val_accuracy: 0.8333\n",
            "Epoch 91/100\n",
            "82/82 [==============================] - 59s 721ms/step - loss: 0.0044 - accuracy: 0.9595 - val_loss: 0.0191 - val_accuracy: 0.8102\n",
            "Epoch 92/100\n",
            "82/82 [==============================] - 60s 727ms/step - loss: 0.0065 - accuracy: 0.9366 - val_loss: 0.0153 - val_accuracy: 0.8426\n",
            "Epoch 93/100\n",
            "82/82 [==============================] - 59s 725ms/step - loss: 0.0059 - accuracy: 0.9413 - val_loss: 0.0168 - val_accuracy: 0.8333\n",
            "Epoch 94/100\n",
            "82/82 [==============================] - 60s 729ms/step - loss: 0.0051 - accuracy: 0.9513 - val_loss: 0.0170 - val_accuracy: 0.8287\n",
            "Epoch 95/100\n",
            "82/82 [==============================] - 59s 719ms/step - loss: 0.0041 - accuracy: 0.9584 - val_loss: 0.0181 - val_accuracy: 0.8333\n",
            "Epoch 96/100\n",
            "82/82 [==============================] - 58s 709ms/step - loss: 0.0047 - accuracy: 0.9523 - val_loss: 0.0188 - val_accuracy: 0.8148\n",
            "Epoch 97/100\n",
            "82/82 [==============================] - 59s 715ms/step - loss: 0.0051 - accuracy: 0.9456 - val_loss: 0.0195 - val_accuracy: 0.8102\n",
            "Epoch 98/100\n",
            "82/82 [==============================] - 58s 708ms/step - loss: 0.0051 - accuracy: 0.9499 - val_loss: 0.0233 - val_accuracy: 0.7778\n",
            "Epoch 99/100\n",
            "82/82 [==============================] - 58s 709ms/step - loss: 0.0048 - accuracy: 0.9504 - val_loss: 0.0187 - val_accuracy: 0.8056\n",
            "Epoch 100/100\n",
            "82/82 [==============================] - 58s 708ms/step - loss: 0.0051 - accuracy: 0.9508 - val_loss: 0.0180 - val_accuracy: 0.8241\n"
          ],
          "name": "stdout"
        }
      ]
    },
    {
      "cell_type": "code",
      "metadata": {
        "colab": {
          "base_uri": "https://localhost:8080/"
        },
        "id": "utAlEsmmTLU2",
        "outputId": "dba25f74-9735-462c-eaae-4ee600e5a18a"
      },
      "source": [
        "max(history.history['val_accuracy']),max(history.history['accuracy'])"
      ],
      "execution_count": null,
      "outputs": [
        {
          "output_type": "execute_result",
          "data": {
            "text/plain": [
              "(0.8611111044883728, 0.9591447114944458)"
            ]
          },
          "metadata": {
            "tags": []
          },
          "execution_count": 19
        }
      ]
    },
    {
      "cell_type": "code",
      "metadata": {
        "colab": {
          "base_uri": "https://localhost:8080/",
          "height": 354
        },
        "id": "X8fPBbX3TLU3",
        "outputId": "4086a358-0d66-476b-8545-116fe06d7ad4"
      },
      "source": [
        "import matplotlib.pyplot as plt\n",
        "plt.style.use('ggplot')\n",
        "\n",
        "def plot_history(history):\n",
        "    acc = history['accuracy']\n",
        "    val_acc = history['val_accuracy']\n",
        "    loss = history['loss']\n",
        "    val_loss = history['val_loss']\n",
        "    x = range(1, len(acc) + 1)\n",
        "\n",
        "    plt.figure(figsize=(13, 5))\n",
        "    plt.subplot(1, 2, 1)\n",
        "    plt.plot(x, acc, 'b', label='Training acc',marker = '.',color='#008000')\n",
        "    plt.plot(x,val_acc, 'r', label='Validation acc',marker = '.',color='#C24641')\n",
        "    plt.title('Training and validation accuracy')\n",
        "    plt.xlabel('Epoch')\n",
        "    plt.ylabel('Accuracy')\n",
        "    plt.legend()\n",
        "    plt.subplot(1, 2, 2)\n",
        "    plt.plot(x, loss, 'b', label='Training loss',marker = '.',color='#008000')\n",
        "    plt.plot(x, val_loss, 'r', label='Validation loss',marker = '.',color='#C24641')\n",
        "    plt.title('Training and validation loss')\n",
        "    plt.xlabel('Epoch')\n",
        "    plt.ylabel('Loss')\n",
        "    plt.legend()\n",
        "    # plt.savefig('performance_curve.jpg',dpi=600)\n",
        "\n",
        "plot_history(history.history)"
      ],
      "execution_count": null,
      "outputs": [
        {
          "output_type": "display_data",
          "data": {
            "image/png": "[encoded data removed]",
            "text/plain": [
              "<Figure size 936x360 with 2 Axes>"
            ]
          },
          "metadata": {
            "tags": []
          }
        }
      ]
    },
    {
      "cell_type": "code",
      "metadata": {
        "id": "5Zq6Jom2TLU4"
      },
      "source": [
        "import pickle\n",
        "with open('/content/drive/MyDrive/Traditional Food Classification/set 1/history_scratch_86%', 'wb') as file_pi:\n",
        "  pickle.dump(history.history, file_pi)"
      ],
      "execution_count": null,
      "outputs": []
    },
    {
      "cell_type": "code",
      "metadata": {
        "colab": {
          "base_uri": "https://localhost:8080/"
        },
        "id": "Z0Z9uIH-TLU5",
        "outputId": "08739cc0-d609-4dd1-c974-36c2dcd6a534"
      },
      "source": [
        "model_json =model.to_json()\n",
        "with open(\"/content/drive/MyDrive/Traditional Food Classification/set 1/scratch_86%.json\", \"w\") as json_file:\n",
        "    json_file.write(model_json)\n",
        "# serialize weights to HDF5\n",
        "model.save_weights(\"/content/drive/MyDrive/Traditional Food Classification/set 1//scratch_86.h5\")\n",
        "print(\"Saved model to disk\")"
      ],
      "execution_count": null,
      "outputs": [
        {
          "output_type": "stream",
          "text": [
            "Saved model to disk\n"
          ],
          "name": "stdout"
        }
      ]
    },
    {
      "cell_type": "markdown",
      "metadata": {
        "id": "_bpiC81uHA_I"
      },
      "source": [
        "## 85% accuracy"
      ]
    },
    {
      "cell_type": "code",
      "metadata": {
        "id": "VzdnH2stHfxh"
      },
      "source": [
        "train_data_aug = tf.keras.preprocessing.image.ImageDataGenerator(\n",
        "    rescale=1./255,\n",
        "    zoom_range=0.25,\n",
        "    horizontal_flip=True,\n",
        "    rotation_range=8,\n",
        "    width_shift_range=0.2,\n",
        "    height_shift_range=0.2,\n",
        "    shear_range=0.2,\n",
        "    )\n",
        "\n",
        "val_data_aug = tf.keras.preprocessing.image.ImageDataGenerator(\n",
        "    rescale=1./255,\n",
        "    )"
      ],
      "execution_count": null,
      "outputs": []
    },
    {
      "cell_type": "code",
      "metadata": {
        "id": "SRTDV3AJHfxp"
      },
      "source": [
        "model = Sequential()\n",
        "\n",
        "input_shape=(224, 224, 3)\n",
        "\n",
        "model.add(Conv2D(32, (3, 3), strides=(1, 1),activation='relu', padding='same',input_shape=input_shape))\n",
        "model.add(MaxPooling2D((2, 2)))\n",
        "model.add(Conv2D(64, (3, 3), strides=(1, 1),activation='relu',padding='same'))\n",
        "model.add(MaxPooling2D((2, 2)))\n",
        "model.add(Conv2D(64, (3, 3), strides=(1, 1),activation='relu', padding='same'))\n",
        "model.add(MaxPooling2D((2, 2)))\n",
        "model.add(Conv2D(128, (5, 5), strides=(1, 1),activation='relu', padding='same'))\n",
        "model.add(MaxPooling2D((2, 2)))\n",
        "model.add(Conv2D(128, (5, 5), strides=(1, 1),activation='relu', padding='same'))\n",
        "\n",
        "model.add(MaxPooling2D((2, 2)))\n",
        "model.add(Conv2D(256, (5, 5), strides=(1, 1),activation='relu', padding='same'))\n",
        "model.add(MaxPooling2D((2, 2)))\n",
        "\n",
        "model.add(Flatten())\n",
        "\n",
        "model.add((Dense(128,activation='relu')))\n",
        "model.add(Dropout(0.2))\n",
        "# model.add((Dense(256,activation='relu')))\n",
        "\n",
        "model.add(Dense(7, activation='softmax'))"
      ],
      "execution_count": null,
      "outputs": []
    },
    {
      "cell_type": "code",
      "metadata": {
        "colab": {
          "base_uri": "https://localhost:8080/"
        },
        "id": "mvucl-AkNLs6",
        "outputId": "90d61537-071b-4a94-dead-175b2342c0f4"
      },
      "source": [
        "history = model.fit(train,validation_data=valid,shuffle=True,epochs=100,verbose=1)"
      ],
      "execution_count": null,
      "outputs": [
        {
          "output_type": "stream",
          "text": [
            "Epoch 1/100\n",
            "82/82 [==============================] - 690s 8s/step - loss: 0.0549 - accuracy: 0.2089 - val_loss: 0.0469 - val_accuracy: 0.3843\n",
            "Epoch 2/100\n",
            "82/82 [==============================] - 63s 772ms/step - loss: 0.0487 - accuracy: 0.3589 - val_loss: 0.0446 - val_accuracy: 0.3843\n",
            "Epoch 3/100\n",
            "82/82 [==============================] - 63s 768ms/step - loss: 0.0464 - accuracy: 0.4067 - val_loss: 0.0453 - val_accuracy: 0.4537\n",
            "Epoch 4/100\n",
            "82/82 [==============================] - 63s 763ms/step - loss: 0.0437 - accuracy: 0.4698 - val_loss: 0.0390 - val_accuracy: 0.5463\n",
            "Epoch 5/100\n",
            "82/82 [==============================] - 62s 761ms/step - loss: 0.0405 - accuracy: 0.5186 - val_loss: 0.0351 - val_accuracy: 0.5741\n",
            "Epoch 6/100\n",
            "82/82 [==============================] - 62s 754ms/step - loss: 0.0392 - accuracy: 0.5271 - val_loss: 0.0325 - val_accuracy: 0.6343\n",
            "Epoch 7/100\n",
            "82/82 [==============================] - 62s 758ms/step - loss: 0.0394 - accuracy: 0.5355 - val_loss: 0.0292 - val_accuracy: 0.6852\n",
            "Epoch 8/100\n",
            "82/82 [==============================] - 62s 762ms/step - loss: 0.0361 - accuracy: 0.5866 - val_loss: 0.0336 - val_accuracy: 0.6065\n",
            "Epoch 9/100\n",
            "82/82 [==============================] - 62s 756ms/step - loss: 0.0361 - accuracy: 0.5899 - val_loss: 0.0362 - val_accuracy: 0.5648\n",
            "Epoch 10/100\n",
            "82/82 [==============================] - 62s 759ms/step - loss: 0.0363 - accuracy: 0.5759 - val_loss: 0.0284 - val_accuracy: 0.6528\n",
            "Epoch 11/100\n",
            "82/82 [==============================] - 62s 760ms/step - loss: 0.0339 - accuracy: 0.6149 - val_loss: 0.0251 - val_accuracy: 0.7315\n",
            "Epoch 12/100\n",
            "82/82 [==============================] - 62s 755ms/step - loss: 0.0324 - accuracy: 0.6334 - val_loss: 0.0289 - val_accuracy: 0.6574\n",
            "Epoch 13/100\n",
            "82/82 [==============================] - 62s 753ms/step - loss: 0.0322 - accuracy: 0.6355 - val_loss: 0.0263 - val_accuracy: 0.6944\n",
            "Epoch 14/100\n",
            "82/82 [==============================] - 62s 751ms/step - loss: 0.0317 - accuracy: 0.6399 - val_loss: 0.0254 - val_accuracy: 0.7222\n",
            "Epoch 15/100\n",
            "82/82 [==============================] - 62s 753ms/step - loss: 0.0308 - accuracy: 0.6590 - val_loss: 0.0224 - val_accuracy: 0.7546\n",
            "Epoch 16/100\n",
            "82/82 [==============================] - 61s 749ms/step - loss: 0.0289 - accuracy: 0.6901 - val_loss: 0.0244 - val_accuracy: 0.7083\n",
            "Epoch 17/100\n",
            "82/82 [==============================] - 61s 750ms/step - loss: 0.0274 - accuracy: 0.6956 - val_loss: 0.0297 - val_accuracy: 0.6713\n",
            "Epoch 18/100\n",
            "82/82 [==============================] - 62s 753ms/step - loss: 0.0294 - accuracy: 0.6749 - val_loss: 0.0225 - val_accuracy: 0.7685\n",
            "Epoch 19/100\n",
            "82/82 [==============================] - 61s 750ms/step - loss: 0.0268 - accuracy: 0.7033 - val_loss: 0.0241 - val_accuracy: 0.7315\n",
            "Epoch 20/100\n",
            "82/82 [==============================] - 61s 749ms/step - loss: 0.0263 - accuracy: 0.7184 - val_loss: 0.0242 - val_accuracy: 0.7454\n",
            "Epoch 21/100\n",
            "82/82 [==============================] - 61s 745ms/step - loss: 0.0265 - accuracy: 0.7088 - val_loss: 0.0220 - val_accuracy: 0.7454\n",
            "Epoch 22/100\n",
            "82/82 [==============================] - 61s 748ms/step - loss: 0.0268 - accuracy: 0.7167 - val_loss: 0.0211 - val_accuracy: 0.7731\n",
            "Epoch 23/100\n",
            "82/82 [==============================] - 61s 748ms/step - loss: 0.0262 - accuracy: 0.7112 - val_loss: 0.0211 - val_accuracy: 0.7778\n",
            "Epoch 24/100\n",
            "82/82 [==============================] - 61s 747ms/step - loss: 0.0237 - accuracy: 0.7453 - val_loss: 0.0238 - val_accuracy: 0.7315\n",
            "Epoch 25/100\n",
            "82/82 [==============================] - 61s 748ms/step - loss: 0.0240 - accuracy: 0.7394 - val_loss: 0.0245 - val_accuracy: 0.7454\n",
            "Epoch 26/100\n",
            "82/82 [==============================] - 60s 732ms/step - loss: 0.0230 - accuracy: 0.7654 - val_loss: 0.0238 - val_accuracy: 0.7454\n",
            "Epoch 27/100\n",
            "82/82 [==============================] - 59s 726ms/step - loss: 0.0229 - accuracy: 0.7589 - val_loss: 0.0224 - val_accuracy: 0.7546\n",
            "Epoch 28/100\n",
            "82/82 [==============================] - 60s 731ms/step - loss: 0.0231 - accuracy: 0.7468 - val_loss: 0.0198 - val_accuracy: 0.8009\n",
            "Epoch 29/100\n",
            "82/82 [==============================] - 60s 727ms/step - loss: 0.0214 - accuracy: 0.7776 - val_loss: 0.0201 - val_accuracy: 0.7824\n",
            "Epoch 30/100\n",
            "82/82 [==============================] - 59s 724ms/step - loss: 0.0222 - accuracy: 0.7614 - val_loss: 0.0222 - val_accuracy: 0.7685\n",
            "Epoch 31/100\n",
            "82/82 [==============================] - 58s 706ms/step - loss: 0.0225 - accuracy: 0.7678 - val_loss: 0.0218 - val_accuracy: 0.7824\n",
            "Epoch 32/100\n",
            "82/82 [==============================] - 57s 694ms/step - loss: 0.0191 - accuracy: 0.7992 - val_loss: 0.0220 - val_accuracy: 0.7778\n",
            "Epoch 33/100\n",
            "82/82 [==============================] - 58s 704ms/step - loss: 0.0199 - accuracy: 0.7932 - val_loss: 0.0223 - val_accuracy: 0.7778\n",
            "Epoch 34/100\n",
            "82/82 [==============================] - 58s 709ms/step - loss: 0.0191 - accuracy: 0.7953 - val_loss: 0.0220 - val_accuracy: 0.7639\n",
            "Epoch 35/100\n",
            "82/82 [==============================] - 59s 725ms/step - loss: 0.0182 - accuracy: 0.8042 - val_loss: 0.0233 - val_accuracy: 0.7315\n",
            "Epoch 36/100\n",
            "82/82 [==============================] - 61s 748ms/step - loss: 0.0180 - accuracy: 0.8127 - val_loss: 0.0228 - val_accuracy: 0.7685\n",
            "Epoch 37/100\n",
            "82/82 [==============================] - 61s 738ms/step - loss: 0.0171 - accuracy: 0.8203 - val_loss: 0.0210 - val_accuracy: 0.7963\n",
            "Epoch 38/100\n",
            "82/82 [==============================] - 61s 739ms/step - loss: 0.0163 - accuracy: 0.8334 - val_loss: 0.0205 - val_accuracy: 0.7824\n",
            "Epoch 39/100\n",
            "82/82 [==============================] - 60s 735ms/step - loss: 0.0161 - accuracy: 0.8290 - val_loss: 0.0216 - val_accuracy: 0.7454\n",
            "Epoch 40/100\n",
            "82/82 [==============================] - 60s 733ms/step - loss: 0.0169 - accuracy: 0.8177 - val_loss: 0.0212 - val_accuracy: 0.7593\n",
            "Epoch 41/100\n",
            "82/82 [==============================] - 60s 728ms/step - loss: 0.0156 - accuracy: 0.8391 - val_loss: 0.0225 - val_accuracy: 0.7824\n",
            "Epoch 42/100\n",
            "82/82 [==============================] - 60s 729ms/step - loss: 0.0160 - accuracy: 0.8311 - val_loss: 0.0190 - val_accuracy: 0.8056\n",
            "Epoch 43/100\n",
            "82/82 [==============================] - 59s 727ms/step - loss: 0.0148 - accuracy: 0.8432 - val_loss: 0.0197 - val_accuracy: 0.8056\n",
            "Epoch 44/100\n",
            "82/82 [==============================] - 60s 731ms/step - loss: 0.0141 - accuracy: 0.8551 - val_loss: 0.0193 - val_accuracy: 0.7917\n",
            "Epoch 45/100\n",
            "82/82 [==============================] - 59s 726ms/step - loss: 0.0153 - accuracy: 0.8461 - val_loss: 0.0177 - val_accuracy: 0.8287\n",
            "Epoch 46/100\n",
            "82/82 [==============================] - 59s 716ms/step - loss: 0.0136 - accuracy: 0.8541 - val_loss: 0.0193 - val_accuracy: 0.8148\n",
            "Epoch 47/100\n",
            "82/82 [==============================] - 59s 717ms/step - loss: 0.0130 - accuracy: 0.8672 - val_loss: 0.0182 - val_accuracy: 0.8056\n",
            "Epoch 48/100\n",
            "82/82 [==============================] - 58s 715ms/step - loss: 0.0122 - accuracy: 0.8813 - val_loss: 0.0188 - val_accuracy: 0.7917\n",
            "Epoch 49/100\n",
            "82/82 [==============================] - 59s 724ms/step - loss: 0.0129 - accuracy: 0.8751 - val_loss: 0.0224 - val_accuracy: 0.7639\n",
            "Epoch 50/100\n",
            "82/82 [==============================] - 59s 719ms/step - loss: 0.0118 - accuracy: 0.8818 - val_loss: 0.0193 - val_accuracy: 0.8102\n",
            "Epoch 51/100\n",
            "82/82 [==============================] - 59s 715ms/step - loss: 0.0118 - accuracy: 0.8860 - val_loss: 0.0186 - val_accuracy: 0.8148\n",
            "Epoch 52/100\n",
            "82/82 [==============================] - 59s 715ms/step - loss: 0.0120 - accuracy: 0.8807 - val_loss: 0.0179 - val_accuracy: 0.8241\n",
            "Epoch 53/100\n",
            "82/82 [==============================] - 59s 720ms/step - loss: 0.0114 - accuracy: 0.8824 - val_loss: 0.0181 - val_accuracy: 0.8194\n",
            "Epoch 54/100\n",
            "82/82 [==============================] - 59s 719ms/step - loss: 0.0115 - accuracy: 0.8811 - val_loss: 0.0189 - val_accuracy: 0.8148\n",
            "Epoch 55/100\n",
            "82/82 [==============================] - 59s 719ms/step - loss: 0.0118 - accuracy: 0.8808 - val_loss: 0.0195 - val_accuracy: 0.8148\n",
            "Epoch 56/100\n",
            "82/82 [==============================] - 57s 698ms/step - loss: 0.0099 - accuracy: 0.9004 - val_loss: 0.0185 - val_accuracy: 0.8241\n",
            "Epoch 57/100\n",
            "82/82 [==============================] - 59s 717ms/step - loss: 0.0096 - accuracy: 0.9023 - val_loss: 0.0221 - val_accuracy: 0.7685\n",
            "Epoch 58/100\n",
            "82/82 [==============================] - 59s 718ms/step - loss: 0.0130 - accuracy: 0.8694 - val_loss: 0.0195 - val_accuracy: 0.8009\n",
            "Epoch 59/100\n",
            "82/82 [==============================] - 59s 716ms/step - loss: 0.0107 - accuracy: 0.8874 - val_loss: 0.0194 - val_accuracy: 0.7963\n",
            "Epoch 60/100\n",
            "82/82 [==============================] - 58s 706ms/step - loss: 0.0094 - accuracy: 0.9131 - val_loss: 0.0191 - val_accuracy: 0.8148\n",
            "Epoch 61/100\n",
            "82/82 [==============================] - 59s 716ms/step - loss: 0.0109 - accuracy: 0.8840 - val_loss: 0.0222 - val_accuracy: 0.7639\n",
            "Epoch 62/100\n",
            "82/82 [==============================] - 59s 724ms/step - loss: 0.0104 - accuracy: 0.8927 - val_loss: 0.0187 - val_accuracy: 0.8148\n",
            "Epoch 63/100\n",
            "82/82 [==============================] - 60s 729ms/step - loss: 0.0086 - accuracy: 0.9129 - val_loss: 0.0203 - val_accuracy: 0.7963\n",
            "Epoch 64/100\n",
            "82/82 [==============================] - 61s 743ms/step - loss: 0.0089 - accuracy: 0.9082 - val_loss: 0.0217 - val_accuracy: 0.7963\n",
            "Epoch 65/100\n",
            "82/82 [==============================] - 61s 751ms/step - loss: 0.0094 - accuracy: 0.9050 - val_loss: 0.0208 - val_accuracy: 0.8056\n",
            "Epoch 66/100\n",
            "82/82 [==============================] - 62s 754ms/step - loss: 0.0082 - accuracy: 0.9183 - val_loss: 0.0201 - val_accuracy: 0.8009\n",
            "Epoch 67/100\n",
            "82/82 [==============================] - 62s 759ms/step - loss: 0.0078 - accuracy: 0.9269 - val_loss: 0.0212 - val_accuracy: 0.8009\n",
            "Epoch 68/100\n",
            "82/82 [==============================] - 63s 765ms/step - loss: 0.0083 - accuracy: 0.9181 - val_loss: 0.0187 - val_accuracy: 0.8056\n",
            "Epoch 69/100\n",
            "82/82 [==============================] - 63s 764ms/step - loss: 0.0083 - accuracy: 0.9125 - val_loss: 0.0198 - val_accuracy: 0.8009\n",
            "Epoch 70/100\n",
            "82/82 [==============================] - 62s 762ms/step - loss: 0.0072 - accuracy: 0.9281 - val_loss: 0.0197 - val_accuracy: 0.8009\n",
            "Epoch 71/100\n",
            "82/82 [==============================] - 62s 746ms/step - loss: 0.0078 - accuracy: 0.9194 - val_loss: 0.0173 - val_accuracy: 0.8287\n",
            "Epoch 72/100\n",
            "82/82 [==============================] - 62s 754ms/step - loss: 0.0066 - accuracy: 0.9367 - val_loss: 0.0199 - val_accuracy: 0.8009\n",
            "Epoch 73/100\n",
            "82/82 [==============================] - 63s 764ms/step - loss: 0.0066 - accuracy: 0.9355 - val_loss: 0.0192 - val_accuracy: 0.8102\n",
            "Epoch 74/100\n",
            "82/82 [==============================] - 61s 750ms/step - loss: 0.0070 - accuracy: 0.9323 - val_loss: 0.0186 - val_accuracy: 0.8102\n",
            "Epoch 75/100\n",
            "82/82 [==============================] - 61s 742ms/step - loss: 0.0061 - accuracy: 0.9400 - val_loss: 0.0177 - val_accuracy: 0.8194\n",
            "Epoch 76/100\n",
            "82/82 [==============================] - 60s 738ms/step - loss: 0.0064 - accuracy: 0.9349 - val_loss: 0.0191 - val_accuracy: 0.8148\n",
            "Epoch 77/100\n",
            "82/82 [==============================] - 61s 742ms/step - loss: 0.0052 - accuracy: 0.9474 - val_loss: 0.0232 - val_accuracy: 0.7731\n",
            "Epoch 78/100\n",
            "82/82 [==============================] - 60s 738ms/step - loss: 0.0073 - accuracy: 0.9255 - val_loss: 0.0188 - val_accuracy: 0.8148\n",
            "Epoch 79/100\n",
            "82/82 [==============================] - 62s 752ms/step - loss: 0.0073 - accuracy: 0.9285 - val_loss: 0.0185 - val_accuracy: 0.8194\n",
            "Epoch 80/100\n",
            "82/82 [==============================] - 62s 760ms/step - loss: 0.0067 - accuracy: 0.9318 - val_loss: 0.0184 - val_accuracy: 0.8102\n",
            "Epoch 81/100\n",
            "82/82 [==============================] - 62s 756ms/step - loss: 0.0054 - accuracy: 0.9478 - val_loss: 0.0171 - val_accuracy: 0.8380\n",
            "Epoch 82/100\n",
            "82/82 [==============================] - 62s 759ms/step - loss: 0.0062 - accuracy: 0.9347 - val_loss: 0.0197 - val_accuracy: 0.8009\n",
            "Epoch 83/100\n",
            "82/82 [==============================] - 62s 759ms/step - loss: 0.0055 - accuracy: 0.9450 - val_loss: 0.0193 - val_accuracy: 0.8241\n",
            "Epoch 84/100\n",
            "82/82 [==============================] - 62s 760ms/step - loss: 0.0059 - accuracy: 0.9434 - val_loss: 0.0179 - val_accuracy: 0.8194\n",
            "Epoch 85/100\n",
            "82/82 [==============================] - 62s 756ms/step - loss: 0.0047 - accuracy: 0.9542 - val_loss: 0.0208 - val_accuracy: 0.7870\n",
            "Epoch 86/100\n",
            "82/82 [==============================] - 63s 768ms/step - loss: 0.0042 - accuracy: 0.9613 - val_loss: 0.0194 - val_accuracy: 0.7870\n",
            "Epoch 87/100\n",
            "82/82 [==============================] - 63s 763ms/step - loss: 0.0048 - accuracy: 0.9529 - val_loss: 0.0169 - val_accuracy: 0.8287\n",
            "Epoch 88/100\n",
            "82/82 [==============================] - 62s 759ms/step - loss: 0.0050 - accuracy: 0.9524 - val_loss: 0.0193 - val_accuracy: 0.7917\n",
            "Epoch 89/100\n",
            "82/82 [==============================] - 62s 762ms/step - loss: 0.0047 - accuracy: 0.9574 - val_loss: 0.0183 - val_accuracy: 0.8241\n",
            "Epoch 90/100\n",
            "82/82 [==============================] - 62s 758ms/step - loss: 0.0043 - accuracy: 0.9548 - val_loss: 0.0182 - val_accuracy: 0.8194\n",
            "Epoch 91/100\n",
            "82/82 [==============================] - 61s 748ms/step - loss: 0.0044 - accuracy: 0.9555 - val_loss: 0.0202 - val_accuracy: 0.8009\n",
            "Epoch 92/100\n",
            "82/82 [==============================] - 61s 742ms/step - loss: 0.0049 - accuracy: 0.9526 - val_loss: 0.0210 - val_accuracy: 0.8102\n",
            "Epoch 93/100\n",
            "82/82 [==============================] - 60s 728ms/step - loss: 0.0038 - accuracy: 0.9639 - val_loss: 0.0202 - val_accuracy: 0.8056\n",
            "Epoch 94/100\n",
            "82/82 [==============================] - 60s 729ms/step - loss: 0.0042 - accuracy: 0.9615 - val_loss: 0.0185 - val_accuracy: 0.8287\n",
            "Epoch 95/100\n",
            "82/82 [==============================] - 60s 727ms/step - loss: 0.0037 - accuracy: 0.9664 - val_loss: 0.0208 - val_accuracy: 0.7778\n",
            "Epoch 96/100\n",
            "82/82 [==============================] - 60s 728ms/step - loss: 0.0036 - accuracy: 0.9651 - val_loss: 0.0198 - val_accuracy: 0.8148\n",
            "Epoch 97/100\n",
            "82/82 [==============================] - 60s 725ms/step - loss: 0.0031 - accuracy: 0.9702 - val_loss: 0.0185 - val_accuracy: 0.8009\n",
            "Epoch 98/100\n",
            "82/82 [==============================] - 60s 735ms/step - loss: 0.0039 - accuracy: 0.9619 - val_loss: 0.0157 - val_accuracy: 0.8472\n",
            "Epoch 99/100\n",
            "82/82 [==============================] - 60s 733ms/step - loss: 0.0041 - accuracy: 0.9631 - val_loss: 0.0196 - val_accuracy: 0.7963\n",
            "Epoch 100/100\n",
            "82/82 [==============================] - 60s 729ms/step - loss: 0.0036 - accuracy: 0.9644 - val_loss: 0.0174 - val_accuracy: 0.8380\n"
          ],
          "name": "stdout"
        }
      ]
    },
    {
      "cell_type": "code",
      "metadata": {
        "colab": {
          "base_uri": "https://localhost:8080/"
        },
        "id": "_bHe9oBnG5_J",
        "outputId": "ba403fab-7312-40b1-aa2e-fbaf79c531e8"
      },
      "source": [
        "max(history.history['val_accuracy']),max(history.history['accuracy'])"
      ],
      "execution_count": null,
      "outputs": [
        {
          "output_type": "execute_result",
          "data": {
            "text/plain": [
              "(0.8472222089767456, 0.9652538895606995)"
            ]
          },
          "metadata": {
            "tags": []
          },
          "execution_count": 15
        }
      ]
    },
    {
      "cell_type": "code",
      "metadata": {
        "colab": {
          "base_uri": "https://localhost:8080/",
          "height": 354
        },
        "id": "34Dx6Xj4gOH8",
        "outputId": "fd03c39d-1c22-4647-90a4-a3de03ae3db5"
      },
      "source": [
        "import matplotlib.pyplot as plt\n",
        "plt.style.use('ggplot')\n",
        "\n",
        "def plot_history(history):\n",
        "    acc = history['accuracy']\n",
        "    val_acc = history['val_accuracy']\n",
        "    loss = history['loss']\n",
        "    val_loss = history['val_loss']\n",
        "    x = range(1, len(acc) + 1)\n",
        "\n",
        "    plt.figure(figsize=(13, 5))\n",
        "    plt.subplot(1, 2, 1)\n",
        "    plt.plot(x, acc, 'b', label='Training acc',marker = '.',color='#008000')\n",
        "    plt.plot(x,val_acc, 'r', label='Validation acc',marker = '.',color='#C24641')\n",
        "    plt.title('Training and validation accuracy')\n",
        "    plt.xlabel('Epoch')\n",
        "    plt.ylabel('Accuracy')\n",
        "    plt.legend()\n",
        "    plt.subplot(1, 2, 2)\n",
        "    plt.plot(x, loss, 'b', label='Training loss',marker = '.',color='#008000')\n",
        "    plt.plot(x, val_loss, 'r', label='Validation loss',marker = '.',color='#C24641')\n",
        "    plt.title('Training and validation loss')\n",
        "    plt.xlabel('Epoch')\n",
        "    plt.ylabel('Loss')\n",
        "    plt.legend()\n",
        "    # plt.savefig('performance_curve.jpg',dpi=600)\n",
        "\n",
        "plot_history(history.history)"
      ],
      "execution_count": null,
      "outputs": [
        {
          "output_type": "display_data",
          "data": {
            "image/png": "[encoded data removed]",
            "text/plain": [
              "<Figure size 936x360 with 2 Axes>"
            ]
          },
          "metadata": {
            "tags": []
          }
        }
      ]
    },
    {
      "cell_type": "markdown",
      "metadata": {
        "id": "S_e8mOkWFJJT"
      },
      "source": [
        "## 82.4%"
      ]
    },
    {
      "cell_type": "code",
      "metadata": {
        "id": "Om5lf2XtFQb7"
      },
      "source": [
        "train_data_aug = tf.keras.preprocessing.image.ImageDataGenerator(\n",
        "    rescale=1./255,\n",
        "    zoom_range=0.25,\n",
        "    horizontal_flip=True,\n",
        "    rotation_range=8,\n",
        "    width_shift_range=0.2,\n",
        "    height_shift_range=0.2,\n",
        "    shear_range=0.2\n",
        "    )\n",
        "\n",
        "val_data_aug = tf.keras.preprocessing.image.ImageDataGenerator(\n",
        "    rescale=1./255,\n",
        "    )"
      ],
      "execution_count": null,
      "outputs": []
    },
    {
      "cell_type": "code",
      "metadata": {
        "id": "2KhcvQI7FQb9"
      },
      "source": [
        "model = Sequential()\n",
        "\n",
        "input_shape=(128, 128, 3)\n",
        "\n",
        "model.add(Conv2D(32, (3, 3), strides=(1, 1),activation='relu', padding='same',input_shape=input_shape))\n",
        "model.add(MaxPooling2D((2, 2)))\n",
        "model.add(Conv2D(64, (3, 3), strides=(1, 1),activation='relu',padding='same'))\n",
        "model.add(MaxPooling2D((2, 2)))\n",
        "model.add(Conv2D(64, (3, 3), strides=(1, 1),activation='relu', padding='same'))\n",
        "model.add(MaxPooling2D((2, 2)))\n",
        "model.add(Conv2D(128, (5, 5), strides=(1, 1),activation='relu', padding='same'))\n",
        "model.add(MaxPooling2D((2, 2)))\n",
        "model.add(Conv2D(128, (5, 5), strides=(1, 1),activation='relu', padding='same'))\n",
        "\n",
        "model.add(MaxPooling2D((2, 2)))\n",
        "model.add(Conv2D(256, (5, 5), strides=(1, 1),activation='relu', padding='same'))\n",
        "model.add(MaxPooling2D((2, 2)))\n",
        "\n",
        "model.add(Flatten())\n",
        "\n",
        "model.add((Dense(128,activation='relu')))\n",
        "model.add(Dropout(0.2))\n",
        "# model.add((Dense(256,activation='relu')))\n",
        "\n",
        "model.add(Dense(7, activation='softmax'))"
      ],
      "execution_count": null,
      "outputs": []
    },
    {
      "cell_type": "code",
      "metadata": {
        "id": "4z3o3Z_RFQb_"
      },
      "source": [
        "from tensorflow.keras.optimizers import Adam,RMSprop\n",
        "\n",
        "model.compile(loss='logcosh',\n",
        "              optimizer=Adam(lr=0.0001),\n",
        "              metrics=['accuracy'])"
      ],
      "execution_count": null,
      "outputs": []
    },
    {
      "cell_type": "code",
      "metadata": {
        "colab": {
          "base_uri": "https://localhost:8080/"
        },
        "id": "VXeI1BSLFQcA",
        "outputId": "94992bb4-5aef-482d-fb5b-ef6efa1e7d06"
      },
      "source": [
        "history = model.fit(train,validation_data=valid,shuffle=True,epochs=100,verbose=1)"
      ],
      "execution_count": null,
      "outputs": [
        {
          "output_type": "stream",
          "text": [
            "Epoch 1/100\n",
            "82/82 [==============================] - 40s 476ms/step - loss: 0.0546 - accuracy: 0.2174 - val_loss: 0.0463 - val_accuracy: 0.3889\n",
            "Epoch 2/100\n",
            "82/82 [==============================] - 38s 464ms/step - loss: 0.0480 - accuracy: 0.3670 - val_loss: 0.0431 - val_accuracy: 0.4306\n",
            "Epoch 3/100\n",
            "82/82 [==============================] - 38s 470ms/step - loss: 0.0461 - accuracy: 0.3903 - val_loss: 0.0395 - val_accuracy: 0.5185\n",
            "Epoch 4/100\n",
            "82/82 [==============================] - 38s 469ms/step - loss: 0.0426 - accuracy: 0.4759 - val_loss: 0.0343 - val_accuracy: 0.6111\n",
            "Epoch 5/100\n",
            "82/82 [==============================] - 38s 463ms/step - loss: 0.0409 - accuracy: 0.5126 - val_loss: 0.0359 - val_accuracy: 0.5602\n",
            "Epoch 6/100\n",
            "82/82 [==============================] - 38s 466ms/step - loss: 0.0395 - accuracy: 0.5266 - val_loss: 0.0330 - val_accuracy: 0.6157\n",
            "Epoch 7/100\n",
            "82/82 [==============================] - 38s 467ms/step - loss: 0.0383 - accuracy: 0.5545 - val_loss: 0.0312 - val_accuracy: 0.6250\n",
            "Epoch 8/100\n",
            "82/82 [==============================] - 38s 467ms/step - loss: 0.0375 - accuracy: 0.5470 - val_loss: 0.0324 - val_accuracy: 0.5880\n",
            "Epoch 9/100\n",
            "82/82 [==============================] - 38s 464ms/step - loss: 0.0366 - accuracy: 0.5712 - val_loss: 0.0311 - val_accuracy: 0.6343\n",
            "Epoch 10/100\n",
            "82/82 [==============================] - 38s 466ms/step - loss: 0.0345 - accuracy: 0.6005 - val_loss: 0.0286 - val_accuracy: 0.6528\n",
            "Epoch 11/100\n",
            "82/82 [==============================] - 38s 470ms/step - loss: 0.0345 - accuracy: 0.6039 - val_loss: 0.0289 - val_accuracy: 0.6667\n",
            "Epoch 12/100\n",
            "82/82 [==============================] - 38s 472ms/step - loss: 0.0340 - accuracy: 0.6174 - val_loss: 0.0319 - val_accuracy: 0.6111\n",
            "Epoch 13/100\n",
            "82/82 [==============================] - 38s 464ms/step - loss: 0.0345 - accuracy: 0.6055 - val_loss: 0.0288 - val_accuracy: 0.6667\n",
            "Epoch 14/100\n",
            "82/82 [==============================] - 38s 468ms/step - loss: 0.0330 - accuracy: 0.6350 - val_loss: 0.0268 - val_accuracy: 0.7130\n",
            "Epoch 15/100\n",
            "82/82 [==============================] - 38s 468ms/step - loss: 0.0329 - accuracy: 0.6294 - val_loss: 0.0265 - val_accuracy: 0.6806\n",
            "Epoch 16/100\n",
            "82/82 [==============================] - 38s 463ms/step - loss: 0.0319 - accuracy: 0.6466 - val_loss: 0.0253 - val_accuracy: 0.7176\n",
            "Epoch 17/100\n",
            "82/82 [==============================] - 38s 462ms/step - loss: 0.0314 - accuracy: 0.6425 - val_loss: 0.0254 - val_accuracy: 0.6806\n",
            "Epoch 18/100\n",
            "82/82 [==============================] - 38s 465ms/step - loss: 0.0313 - accuracy: 0.6524 - val_loss: 0.0253 - val_accuracy: 0.7083\n",
            "Epoch 19/100\n",
            "82/82 [==============================] - 38s 466ms/step - loss: 0.0302 - accuracy: 0.6708 - val_loss: 0.0263 - val_accuracy: 0.7037\n",
            "Epoch 20/100\n",
            "82/82 [==============================] - 38s 465ms/step - loss: 0.0305 - accuracy: 0.6678 - val_loss: 0.0309 - val_accuracy: 0.6481\n",
            "Epoch 21/100\n",
            "82/82 [==============================] - 38s 469ms/step - loss: 0.0299 - accuracy: 0.6558 - val_loss: 0.0267 - val_accuracy: 0.6806\n",
            "Epoch 22/100\n",
            "82/82 [==============================] - 38s 469ms/step - loss: 0.0278 - accuracy: 0.6928 - val_loss: 0.0276 - val_accuracy: 0.6898\n",
            "Epoch 23/100\n",
            "82/82 [==============================] - 38s 462ms/step - loss: 0.0291 - accuracy: 0.6867 - val_loss: 0.0248 - val_accuracy: 0.7269\n",
            "Epoch 24/100\n",
            "82/82 [==============================] - 38s 471ms/step - loss: 0.0254 - accuracy: 0.7355 - val_loss: 0.0238 - val_accuracy: 0.7176\n",
            "Epoch 25/100\n",
            "82/82 [==============================] - 38s 464ms/step - loss: 0.0269 - accuracy: 0.7101 - val_loss: 0.0231 - val_accuracy: 0.7500\n",
            "Epoch 26/100\n",
            "82/82 [==============================] - 38s 468ms/step - loss: 0.0270 - accuracy: 0.7006 - val_loss: 0.0236 - val_accuracy: 0.7361\n",
            "Epoch 27/100\n",
            "82/82 [==============================] - 38s 470ms/step - loss: 0.0265 - accuracy: 0.7172 - val_loss: 0.0231 - val_accuracy: 0.7546\n",
            "Epoch 28/100\n",
            "82/82 [==============================] - 38s 468ms/step - loss: 0.0245 - accuracy: 0.7389 - val_loss: 0.0240 - val_accuracy: 0.7407\n",
            "Epoch 29/100\n",
            "82/82 [==============================] - 38s 463ms/step - loss: 0.0253 - accuracy: 0.7212 - val_loss: 0.0265 - val_accuracy: 0.7176\n",
            "Epoch 30/100\n",
            "82/82 [==============================] - 38s 468ms/step - loss: 0.0243 - accuracy: 0.7421 - val_loss: 0.0228 - val_accuracy: 0.7546\n",
            "Epoch 31/100\n",
            "82/82 [==============================] - 38s 469ms/step - loss: 0.0235 - accuracy: 0.7506 - val_loss: 0.0242 - val_accuracy: 0.7269\n",
            "Epoch 32/100\n",
            "82/82 [==============================] - 38s 467ms/step - loss: 0.0233 - accuracy: 0.7500 - val_loss: 0.0256 - val_accuracy: 0.7546\n",
            "Epoch 33/100\n",
            "82/82 [==============================] - 38s 464ms/step - loss: 0.0234 - accuracy: 0.7427 - val_loss: 0.0219 - val_accuracy: 0.7685\n",
            "Epoch 34/100\n",
            "82/82 [==============================] - 38s 467ms/step - loss: 0.0222 - accuracy: 0.7629 - val_loss: 0.0219 - val_accuracy: 0.7593\n",
            "Epoch 35/100\n",
            "82/82 [==============================] - 38s 465ms/step - loss: 0.0205 - accuracy: 0.7831 - val_loss: 0.0217 - val_accuracy: 0.7778\n",
            "Epoch 36/100\n",
            "82/82 [==============================] - 38s 470ms/step - loss: 0.0206 - accuracy: 0.7866 - val_loss: 0.0265 - val_accuracy: 0.7130\n",
            "Epoch 37/100\n",
            "82/82 [==============================] - 39s 471ms/step - loss: 0.0218 - accuracy: 0.7714 - val_loss: 0.0223 - val_accuracy: 0.7685\n",
            "Epoch 38/100\n",
            "82/82 [==============================] - 38s 469ms/step - loss: 0.0205 - accuracy: 0.7903 - val_loss: 0.0223 - val_accuracy: 0.7639\n",
            "Epoch 39/100\n",
            "82/82 [==============================] - 38s 467ms/step - loss: 0.0198 - accuracy: 0.7919 - val_loss: 0.0211 - val_accuracy: 0.7824\n",
            "Epoch 40/100\n",
            "82/82 [==============================] - 38s 470ms/step - loss: 0.0193 - accuracy: 0.7947 - val_loss: 0.0218 - val_accuracy: 0.7639\n",
            "Epoch 41/100\n",
            "82/82 [==============================] - 38s 468ms/step - loss: 0.0182 - accuracy: 0.8141 - val_loss: 0.0232 - val_accuracy: 0.7731\n",
            "Epoch 42/100\n",
            "82/82 [==============================] - 38s 466ms/step - loss: 0.0183 - accuracy: 0.8150 - val_loss: 0.0232 - val_accuracy: 0.7454\n",
            "Epoch 43/100\n",
            "82/82 [==============================] - 38s 468ms/step - loss: 0.0189 - accuracy: 0.7988 - val_loss: 0.0214 - val_accuracy: 0.7778\n",
            "Epoch 44/100\n",
            "82/82 [==============================] - 38s 467ms/step - loss: 0.0164 - accuracy: 0.8366 - val_loss: 0.0210 - val_accuracy: 0.7778\n",
            "Epoch 45/100\n",
            "82/82 [==============================] - 38s 468ms/step - loss: 0.0165 - accuracy: 0.8232 - val_loss: 0.0245 - val_accuracy: 0.7176\n",
            "Epoch 46/100\n",
            "82/82 [==============================] - 38s 469ms/step - loss: 0.0172 - accuracy: 0.8124 - val_loss: 0.0242 - val_accuracy: 0.7454\n",
            "Epoch 47/100\n",
            "82/82 [==============================] - 38s 467ms/step - loss: 0.0173 - accuracy: 0.8273 - val_loss: 0.0222 - val_accuracy: 0.7593\n",
            "Epoch 48/100\n",
            "82/82 [==============================] - 38s 469ms/step - loss: 0.0160 - accuracy: 0.8390 - val_loss: 0.0216 - val_accuracy: 0.7454\n",
            "Epoch 49/100\n",
            "82/82 [==============================] - 39s 468ms/step - loss: 0.0159 - accuracy: 0.8306 - val_loss: 0.0203 - val_accuracy: 0.7731\n",
            "Epoch 50/100\n",
            "82/82 [==============================] - 38s 469ms/step - loss: 0.0150 - accuracy: 0.8505 - val_loss: 0.0205 - val_accuracy: 0.7639\n",
            "Epoch 51/100\n",
            "82/82 [==============================] - 38s 464ms/step - loss: 0.0151 - accuracy: 0.8469 - val_loss: 0.0216 - val_accuracy: 0.7685\n",
            "Epoch 52/100\n",
            "82/82 [==============================] - 39s 472ms/step - loss: 0.0143 - accuracy: 0.8536 - val_loss: 0.0196 - val_accuracy: 0.8194\n",
            "Epoch 53/100\n",
            "82/82 [==============================] - 38s 468ms/step - loss: 0.0132 - accuracy: 0.8732 - val_loss: 0.0201 - val_accuracy: 0.7917\n",
            "Epoch 54/100\n",
            "82/82 [==============================] - 38s 468ms/step - loss: 0.0136 - accuracy: 0.8684 - val_loss: 0.0190 - val_accuracy: 0.8102\n",
            "Epoch 55/100\n",
            "82/82 [==============================] - 38s 468ms/step - loss: 0.0124 - accuracy: 0.8763 - val_loss: 0.0224 - val_accuracy: 0.7546\n",
            "Epoch 56/100\n",
            "82/82 [==============================] - 38s 466ms/step - loss: 0.0139 - accuracy: 0.8626 - val_loss: 0.0198 - val_accuracy: 0.7963\n",
            "Epoch 57/100\n",
            "82/82 [==============================] - 38s 469ms/step - loss: 0.0129 - accuracy: 0.8626 - val_loss: 0.0204 - val_accuracy: 0.7685\n",
            "Epoch 58/100\n",
            "82/82 [==============================] - 38s 468ms/step - loss: 0.0119 - accuracy: 0.8838 - val_loss: 0.0213 - val_accuracy: 0.7731\n",
            "Epoch 59/100\n",
            "82/82 [==============================] - 38s 468ms/step - loss: 0.0128 - accuracy: 0.8668 - val_loss: 0.0241 - val_accuracy: 0.7593\n",
            "Epoch 60/100\n",
            "82/82 [==============================] - 38s 467ms/step - loss: 0.0138 - accuracy: 0.8585 - val_loss: 0.0205 - val_accuracy: 0.7593\n",
            "Epoch 61/100\n",
            "82/82 [==============================] - 38s 470ms/step - loss: 0.0115 - accuracy: 0.8803 - val_loss: 0.0215 - val_accuracy: 0.7778\n",
            "Epoch 62/100\n",
            "82/82 [==============================] - 38s 468ms/step - loss: 0.0118 - accuracy: 0.8770 - val_loss: 0.0239 - val_accuracy: 0.7546\n",
            "Epoch 63/100\n",
            "82/82 [==============================] - 38s 466ms/step - loss: 0.0118 - accuracy: 0.8816 - val_loss: 0.0221 - val_accuracy: 0.7731\n",
            "Epoch 64/100\n",
            "82/82 [==============================] - 38s 467ms/step - loss: 0.0108 - accuracy: 0.8889 - val_loss: 0.0209 - val_accuracy: 0.7778\n",
            "Epoch 65/100\n",
            "82/82 [==============================] - 39s 477ms/step - loss: 0.0105 - accuracy: 0.8981 - val_loss: 0.0215 - val_accuracy: 0.7870\n",
            "Epoch 66/100\n",
            "82/82 [==============================] - 38s 466ms/step - loss: 0.0100 - accuracy: 0.9020 - val_loss: 0.0220 - val_accuracy: 0.7685\n",
            "Epoch 67/100\n",
            "82/82 [==============================] - 38s 467ms/step - loss: 0.0100 - accuracy: 0.9002 - val_loss: 0.0198 - val_accuracy: 0.7870\n",
            "Epoch 68/100\n",
            "82/82 [==============================] - 38s 470ms/step - loss: 0.0107 - accuracy: 0.8888 - val_loss: 0.0201 - val_accuracy: 0.7963\n",
            "Epoch 69/100\n",
            "82/82 [==============================] - 38s 466ms/step - loss: 0.0095 - accuracy: 0.9026 - val_loss: 0.0197 - val_accuracy: 0.8102\n",
            "Epoch 70/100\n",
            "82/82 [==============================] - 38s 468ms/step - loss: 0.0100 - accuracy: 0.8998 - val_loss: 0.0218 - val_accuracy: 0.7731\n",
            "Epoch 71/100\n",
            "82/82 [==============================] - 38s 469ms/step - loss: 0.0101 - accuracy: 0.9029 - val_loss: 0.0199 - val_accuracy: 0.7963\n",
            "Epoch 72/100\n",
            "82/82 [==============================] - 38s 467ms/step - loss: 0.0084 - accuracy: 0.9157 - val_loss: 0.0200 - val_accuracy: 0.8148\n",
            "Epoch 73/100\n",
            "82/82 [==============================] - 38s 469ms/step - loss: 0.0099 - accuracy: 0.8910 - val_loss: 0.0209 - val_accuracy: 0.8009\n",
            "Epoch 74/100\n",
            "82/82 [==============================] - 38s 470ms/step - loss: 0.0086 - accuracy: 0.9169 - val_loss: 0.0220 - val_accuracy: 0.7685\n",
            "Epoch 75/100\n",
            "82/82 [==============================] - 38s 467ms/step - loss: 0.0091 - accuracy: 0.9026 - val_loss: 0.0196 - val_accuracy: 0.8148\n",
            "Epoch 76/100\n",
            "82/82 [==============================] - 38s 468ms/step - loss: 0.0099 - accuracy: 0.9026 - val_loss: 0.0216 - val_accuracy: 0.7824\n",
            "Epoch 77/100\n",
            "82/82 [==============================] - 39s 473ms/step - loss: 0.0093 - accuracy: 0.9079 - val_loss: 0.0230 - val_accuracy: 0.7593\n",
            "Epoch 78/100\n",
            "82/82 [==============================] - 38s 467ms/step - loss: 0.0088 - accuracy: 0.9109 - val_loss: 0.0194 - val_accuracy: 0.7963\n",
            "Epoch 79/100\n",
            "82/82 [==============================] - 38s 465ms/step - loss: 0.0078 - accuracy: 0.9233 - val_loss: 0.0248 - val_accuracy: 0.7407\n",
            "Epoch 80/100\n",
            "82/82 [==============================] - 38s 469ms/step - loss: 0.0087 - accuracy: 0.9162 - val_loss: 0.0208 - val_accuracy: 0.7778\n",
            "Epoch 81/100\n",
            "82/82 [==============================] - 39s 472ms/step - loss: 0.0075 - accuracy: 0.9257 - val_loss: 0.0211 - val_accuracy: 0.7963\n",
            "Epoch 82/100\n",
            "82/82 [==============================] - 38s 471ms/step - loss: 0.0070 - accuracy: 0.9305 - val_loss: 0.0210 - val_accuracy: 0.7963\n",
            "Epoch 83/100\n",
            "82/82 [==============================] - 38s 469ms/step - loss: 0.0085 - accuracy: 0.9148 - val_loss: 0.0194 - val_accuracy: 0.8009\n",
            "Epoch 84/100\n",
            "82/82 [==============================] - 38s 466ms/step - loss: 0.0079 - accuracy: 0.9165 - val_loss: 0.0216 - val_accuracy: 0.7500\n",
            "Epoch 85/100\n",
            "82/82 [==============================] - 38s 470ms/step - loss: 0.0075 - accuracy: 0.9270 - val_loss: 0.0208 - val_accuracy: 0.7824\n",
            "Epoch 86/100\n",
            "82/82 [==============================] - 38s 463ms/step - loss: 0.0078 - accuracy: 0.9185 - val_loss: 0.0239 - val_accuracy: 0.7685\n",
            "Epoch 87/100\n",
            "82/82 [==============================] - 39s 475ms/step - loss: 0.0059 - accuracy: 0.9471 - val_loss: 0.0204 - val_accuracy: 0.7917\n",
            "Epoch 88/100\n",
            "82/82 [==============================] - 38s 468ms/step - loss: 0.0069 - accuracy: 0.9303 - val_loss: 0.0220 - val_accuracy: 0.7685\n",
            "Epoch 89/100\n",
            "82/82 [==============================] - 38s 469ms/step - loss: 0.0062 - accuracy: 0.9364 - val_loss: 0.0205 - val_accuracy: 0.7963\n",
            "Epoch 90/100\n",
            "82/82 [==============================] - 39s 471ms/step - loss: 0.0062 - accuracy: 0.9366 - val_loss: 0.0194 - val_accuracy: 0.8241\n",
            "Epoch 91/100\n",
            "82/82 [==============================] - 38s 470ms/step - loss: 0.0057 - accuracy: 0.9481 - val_loss: 0.0194 - val_accuracy: 0.8102\n",
            "Epoch 92/100\n",
            "82/82 [==============================] - 38s 470ms/step - loss: 0.0068 - accuracy: 0.9325 - val_loss: 0.0219 - val_accuracy: 0.7778\n",
            "Epoch 93/100\n",
            "82/82 [==============================] - 38s 469ms/step - loss: 0.0058 - accuracy: 0.9390 - val_loss: 0.0221 - val_accuracy: 0.7917\n",
            "Epoch 94/100\n",
            "82/82 [==============================] - 38s 466ms/step - loss: 0.0051 - accuracy: 0.9504 - val_loss: 0.0252 - val_accuracy: 0.7593\n",
            "Epoch 95/100\n",
            "82/82 [==============================] - 38s 469ms/step - loss: 0.0063 - accuracy: 0.9387 - val_loss: 0.0211 - val_accuracy: 0.7963\n",
            "Epoch 96/100\n",
            "82/82 [==============================] - 38s 465ms/step - loss: 0.0056 - accuracy: 0.9434 - val_loss: 0.0257 - val_accuracy: 0.7500\n",
            "Epoch 97/100\n",
            "82/82 [==============================] - 38s 467ms/step - loss: 0.0070 - accuracy: 0.9307 - val_loss: 0.0216 - val_accuracy: 0.7824\n",
            "Epoch 98/100\n",
            "82/82 [==============================] - 38s 468ms/step - loss: 0.0051 - accuracy: 0.9543 - val_loss: 0.0214 - val_accuracy: 0.7824\n",
            "Epoch 99/100\n",
            "82/82 [==============================] - 39s 471ms/step - loss: 0.0045 - accuracy: 0.9553 - val_loss: 0.0232 - val_accuracy: 0.7731\n",
            "Epoch 100/100\n",
            "82/82 [==============================] - 38s 467ms/step - loss: 0.0057 - accuracy: 0.9435 - val_loss: 0.0208 - val_accuracy: 0.7824\n"
          ],
          "name": "stdout"
        }
      ]
    },
    {
      "cell_type": "code",
      "metadata": {
        "colab": {
          "base_uri": "https://localhost:8080/",
          "height": 354
        },
        "id": "odp3TEHWFQcB",
        "outputId": "0f54b0da-da38-4b1a-dbec-e79886dafac6"
      },
      "source": [
        " import matplotlib.pyplot as plt\n",
        "plt.style.use('ggplot')\n",
        "\n",
        "def plot_history(history):\n",
        "    acc = history['accuracy']\n",
        "    val_acc = history['val_accuracy']\n",
        "    loss = history['loss']\n",
        "    val_loss = history['val_loss']\n",
        "    x = range(1, len(acc) + 1)\n",
        "\n",
        "    plt.figure(figsize=(13, 5))\n",
        "    plt.subplot(1, 2, 1)\n",
        "    plt.plot(x, acc, 'b', label='Training acc',marker = '.',color='#008000')\n",
        "    plt.plot(x,val_acc, 'r', label='Validation acc',marker = '.',color='#C24641')\n",
        "    plt.title('Training and validation accuracy')\n",
        "    plt.xlabel('Epoch')\n",
        "    plt.ylabel('Accuracy')\n",
        "    plt.legend()\n",
        "    plt.subplot(1, 2, 2)\n",
        "    plt.plot(x, loss, 'b', label='Training loss',marker = '.',color='#008000')\n",
        "    plt.plot(x, val_loss, 'r', label='Validation loss',marker = '.',color='#C24641')\n",
        "    plt.title('Training and validation loss')\n",
        "    plt.xlabel('Epoch')\n",
        "    plt.ylabel('Loss')\n",
        "    plt.legend()\n",
        "    # plt.savefig('performance_curve.jpg',dpi=600)\n",
        "\n",
        "plot_history(history.history)"
      ],
      "execution_count": null,
      "outputs": [
        {
          "output_type": "display_data",
          "data": {
            "image/png": "[encoded data removed]",
            "text/plain": [
              "<Figure size 936x360 with 2 Axes>"
            ]
          },
          "metadata": {
            "tags": []
          }
        }
      ]
    },
    {
      "cell_type": "code",
      "metadata": {
        "id": "ovouUMxx1wva"
      },
      "source": [
        ""
      ],
      "execution_count": null,
      "outputs": []
    }
  ]
}